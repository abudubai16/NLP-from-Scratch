{
  "nbformat": 4,
  "nbformat_minor": 0,
  "metadata": {
    "colab": {
      "provenance": [],
      "gpuType": "T4",
      "collapsed_sections": [
        "QE49ZFrzyU5U",
        "WnOA8yj-yXaW",
        "we8lx_1rq23E",
        "LfQ8GF0RqcjS"
      ],
      "include_colab_link": true
    },
    "kernelspec": {
      "name": "python3",
      "display_name": "Python 3"
    },
    "language_info": {
      "name": "python"
    },
    "accelerator": "GPU",
    "widgets": {
      "application/vnd.jupyter.widget-state+json": {
        "60f6ca752b244f1284c590bd2b117a58": {
          "model_module": "@jupyter-widgets/controls",
          "model_name": "HBoxModel",
          "model_module_version": "1.5.0",
          "state": {
            "_dom_classes": [],
            "_model_module": "@jupyter-widgets/controls",
            "_model_module_version": "1.5.0",
            "_model_name": "HBoxModel",
            "_view_count": null,
            "_view_module": "@jupyter-widgets/controls",
            "_view_module_version": "1.5.0",
            "_view_name": "HBoxView",
            "box_style": "",
            "children": [
              "IPY_MODEL_68395e54f4484a7a854ef5b4d5995ba4",
              "IPY_MODEL_18d24d13cc1a4a749245ea5369e76fb0",
              "IPY_MODEL_d822424ec19847ffb9a83a734f4d91a5"
            ],
            "layout": "IPY_MODEL_f51c3715bf8844f1aa072aaa71b4fef6"
          }
        },
        "68395e54f4484a7a854ef5b4d5995ba4": {
          "model_module": "@jupyter-widgets/controls",
          "model_name": "HTMLModel",
          "model_module_version": "1.5.0",
          "state": {
            "_dom_classes": [],
            "_model_module": "@jupyter-widgets/controls",
            "_model_module_version": "1.5.0",
            "_model_name": "HTMLModel",
            "_view_count": null,
            "_view_module": "@jupyter-widgets/controls",
            "_view_module_version": "1.5.0",
            "_view_name": "HTMLView",
            "description": "",
            "description_tooltip": null,
            "layout": "IPY_MODEL_7ba29c83dfdb48be9b64d629ccae1622",
            "placeholder": "​",
            "style": "IPY_MODEL_14bfab5178834b2e8175fa10c8329b0c",
            "value": "Generating train1 split: "
          }
        },
        "18d24d13cc1a4a749245ea5369e76fb0": {
          "model_module": "@jupyter-widgets/controls",
          "model_name": "FloatProgressModel",
          "model_module_version": "1.5.0",
          "state": {
            "_dom_classes": [],
            "_model_module": "@jupyter-widgets/controls",
            "_model_module_version": "1.5.0",
            "_model_name": "FloatProgressModel",
            "_view_count": null,
            "_view_module": "@jupyter-widgets/controls",
            "_view_module_version": "1.5.0",
            "_view_name": "ProgressView",
            "bar_style": "success",
            "description": "",
            "description_tooltip": null,
            "layout": "IPY_MODEL_ddc4ba66187a49e5a7c719b865a37920",
            "max": 1,
            "min": 0,
            "orientation": "horizontal",
            "style": "IPY_MODEL_49208cf0fb9c427c96e9f32c2460cf9c",
            "value": 1
          }
        },
        "d822424ec19847ffb9a83a734f4d91a5": {
          "model_module": "@jupyter-widgets/controls",
          "model_name": "HTMLModel",
          "model_module_version": "1.5.0",
          "state": {
            "_dom_classes": [],
            "_model_module": "@jupyter-widgets/controls",
            "_model_module_version": "1.5.0",
            "_model_name": "HTMLModel",
            "_view_count": null,
            "_view_module": "@jupyter-widgets/controls",
            "_view_module_version": "1.5.0",
            "_view_name": "HTMLView",
            "description": "",
            "description_tooltip": null,
            "layout": "IPY_MODEL_f3dcfe5511bf44ea9913e57d922e534d",
            "placeholder": "​",
            "style": "IPY_MODEL_3fa2687e221c412c837423f0c1de894e",
            "value": " 900675/0 [00:02&lt;00:00, 333312.43 examples/s]"
          }
        },
        "f51c3715bf8844f1aa072aaa71b4fef6": {
          "model_module": "@jupyter-widgets/base",
          "model_name": "LayoutModel",
          "model_module_version": "1.2.0",
          "state": {
            "_model_module": "@jupyter-widgets/base",
            "_model_module_version": "1.2.0",
            "_model_name": "LayoutModel",
            "_view_count": null,
            "_view_module": "@jupyter-widgets/base",
            "_view_module_version": "1.2.0",
            "_view_name": "LayoutView",
            "align_content": null,
            "align_items": null,
            "align_self": null,
            "border": null,
            "bottom": null,
            "display": null,
            "flex": null,
            "flex_flow": null,
            "grid_area": null,
            "grid_auto_columns": null,
            "grid_auto_flow": null,
            "grid_auto_rows": null,
            "grid_column": null,
            "grid_gap": null,
            "grid_row": null,
            "grid_template_areas": null,
            "grid_template_columns": null,
            "grid_template_rows": null,
            "height": null,
            "justify_content": null,
            "justify_items": null,
            "left": null,
            "margin": null,
            "max_height": null,
            "max_width": null,
            "min_height": null,
            "min_width": null,
            "object_fit": null,
            "object_position": null,
            "order": null,
            "overflow": null,
            "overflow_x": null,
            "overflow_y": null,
            "padding": null,
            "right": null,
            "top": null,
            "visibility": null,
            "width": null
          }
        },
        "7ba29c83dfdb48be9b64d629ccae1622": {
          "model_module": "@jupyter-widgets/base",
          "model_name": "LayoutModel",
          "model_module_version": "1.2.0",
          "state": {
            "_model_module": "@jupyter-widgets/base",
            "_model_module_version": "1.2.0",
            "_model_name": "LayoutModel",
            "_view_count": null,
            "_view_module": "@jupyter-widgets/base",
            "_view_module_version": "1.2.0",
            "_view_name": "LayoutView",
            "align_content": null,
            "align_items": null,
            "align_self": null,
            "border": null,
            "bottom": null,
            "display": null,
            "flex": null,
            "flex_flow": null,
            "grid_area": null,
            "grid_auto_columns": null,
            "grid_auto_flow": null,
            "grid_auto_rows": null,
            "grid_column": null,
            "grid_gap": null,
            "grid_row": null,
            "grid_template_areas": null,
            "grid_template_columns": null,
            "grid_template_rows": null,
            "height": null,
            "justify_content": null,
            "justify_items": null,
            "left": null,
            "margin": null,
            "max_height": null,
            "max_width": null,
            "min_height": null,
            "min_width": null,
            "object_fit": null,
            "object_position": null,
            "order": null,
            "overflow": null,
            "overflow_x": null,
            "overflow_y": null,
            "padding": null,
            "right": null,
            "top": null,
            "visibility": null,
            "width": null
          }
        },
        "14bfab5178834b2e8175fa10c8329b0c": {
          "model_module": "@jupyter-widgets/controls",
          "model_name": "DescriptionStyleModel",
          "model_module_version": "1.5.0",
          "state": {
            "_model_module": "@jupyter-widgets/controls",
            "_model_module_version": "1.5.0",
            "_model_name": "DescriptionStyleModel",
            "_view_count": null,
            "_view_module": "@jupyter-widgets/base",
            "_view_module_version": "1.2.0",
            "_view_name": "StyleView",
            "description_width": ""
          }
        },
        "ddc4ba66187a49e5a7c719b865a37920": {
          "model_module": "@jupyter-widgets/base",
          "model_name": "LayoutModel",
          "model_module_version": "1.2.0",
          "state": {
            "_model_module": "@jupyter-widgets/base",
            "_model_module_version": "1.2.0",
            "_model_name": "LayoutModel",
            "_view_count": null,
            "_view_module": "@jupyter-widgets/base",
            "_view_module_version": "1.2.0",
            "_view_name": "LayoutView",
            "align_content": null,
            "align_items": null,
            "align_self": null,
            "border": null,
            "bottom": null,
            "display": null,
            "flex": null,
            "flex_flow": null,
            "grid_area": null,
            "grid_auto_columns": null,
            "grid_auto_flow": null,
            "grid_auto_rows": null,
            "grid_column": null,
            "grid_gap": null,
            "grid_row": null,
            "grid_template_areas": null,
            "grid_template_columns": null,
            "grid_template_rows": null,
            "height": null,
            "justify_content": null,
            "justify_items": null,
            "left": null,
            "margin": null,
            "max_height": null,
            "max_width": null,
            "min_height": null,
            "min_width": null,
            "object_fit": null,
            "object_position": null,
            "order": null,
            "overflow": null,
            "overflow_x": null,
            "overflow_y": null,
            "padding": null,
            "right": null,
            "top": null,
            "visibility": null,
            "width": "20px"
          }
        },
        "49208cf0fb9c427c96e9f32c2460cf9c": {
          "model_module": "@jupyter-widgets/controls",
          "model_name": "ProgressStyleModel",
          "model_module_version": "1.5.0",
          "state": {
            "_model_module": "@jupyter-widgets/controls",
            "_model_module_version": "1.5.0",
            "_model_name": "ProgressStyleModel",
            "_view_count": null,
            "_view_module": "@jupyter-widgets/base",
            "_view_module_version": "1.2.0",
            "_view_name": "StyleView",
            "bar_color": null,
            "description_width": ""
          }
        },
        "f3dcfe5511bf44ea9913e57d922e534d": {
          "model_module": "@jupyter-widgets/base",
          "model_name": "LayoutModel",
          "model_module_version": "1.2.0",
          "state": {
            "_model_module": "@jupyter-widgets/base",
            "_model_module_version": "1.2.0",
            "_model_name": "LayoutModel",
            "_view_count": null,
            "_view_module": "@jupyter-widgets/base",
            "_view_module_version": "1.2.0",
            "_view_name": "LayoutView",
            "align_content": null,
            "align_items": null,
            "align_self": null,
            "border": null,
            "bottom": null,
            "display": null,
            "flex": null,
            "flex_flow": null,
            "grid_area": null,
            "grid_auto_columns": null,
            "grid_auto_flow": null,
            "grid_auto_rows": null,
            "grid_column": null,
            "grid_gap": null,
            "grid_row": null,
            "grid_template_areas": null,
            "grid_template_columns": null,
            "grid_template_rows": null,
            "height": null,
            "justify_content": null,
            "justify_items": null,
            "left": null,
            "margin": null,
            "max_height": null,
            "max_width": null,
            "min_height": null,
            "min_width": null,
            "object_fit": null,
            "object_position": null,
            "order": null,
            "overflow": null,
            "overflow_x": null,
            "overflow_y": null,
            "padding": null,
            "right": null,
            "top": null,
            "visibility": null,
            "width": null
          }
        },
        "3fa2687e221c412c837423f0c1de894e": {
          "model_module": "@jupyter-widgets/controls",
          "model_name": "DescriptionStyleModel",
          "model_module_version": "1.5.0",
          "state": {
            "_model_module": "@jupyter-widgets/controls",
            "_model_module_version": "1.5.0",
            "_model_name": "DescriptionStyleModel",
            "_view_count": null,
            "_view_module": "@jupyter-widgets/base",
            "_view_module_version": "1.2.0",
            "_view_name": "StyleView",
            "description_width": ""
          }
        },
        "448b3346d7664836b4dfdd9359404248": {
          "model_module": "@jupyter-widgets/controls",
          "model_name": "HBoxModel",
          "model_module_version": "1.5.0",
          "state": {
            "_dom_classes": [],
            "_model_module": "@jupyter-widgets/controls",
            "_model_module_version": "1.5.0",
            "_model_name": "HBoxModel",
            "_view_count": null,
            "_view_module": "@jupyter-widgets/controls",
            "_view_module_version": "1.5.0",
            "_view_name": "HBoxView",
            "box_style": "",
            "children": [
              "IPY_MODEL_bfa38852ca3d4e2aa31d1df80cf038fe",
              "IPY_MODEL_684c859a9bf64f0284db8e10dc52e34f",
              "IPY_MODEL_f30fe3ae6bf24638a53fae6466dc9d1a"
            ],
            "layout": "IPY_MODEL_c24ac4901ffa44c087d0408876f2c26d"
          }
        },
        "bfa38852ca3d4e2aa31d1df80cf038fe": {
          "model_module": "@jupyter-widgets/controls",
          "model_name": "HTMLModel",
          "model_module_version": "1.5.0",
          "state": {
            "_dom_classes": [],
            "_model_module": "@jupyter-widgets/controls",
            "_model_module_version": "1.5.0",
            "_model_name": "HTMLModel",
            "_view_count": null,
            "_view_module": "@jupyter-widgets/controls",
            "_view_module_version": "1.5.0",
            "_view_name": "HTMLView",
            "description": "",
            "description_tooltip": null,
            "layout": "IPY_MODEL_5892f6fcea424216aeebfdc09ee3c59c",
            "placeholder": "​",
            "style": "IPY_MODEL_2d6033104ca841ffbb412598c172e3f6",
            "value": "Generating train2 split: "
          }
        },
        "684c859a9bf64f0284db8e10dc52e34f": {
          "model_module": "@jupyter-widgets/controls",
          "model_name": "FloatProgressModel",
          "model_module_version": "1.5.0",
          "state": {
            "_dom_classes": [],
            "_model_module": "@jupyter-widgets/controls",
            "_model_module_version": "1.5.0",
            "_model_name": "FloatProgressModel",
            "_view_count": null,
            "_view_module": "@jupyter-widgets/controls",
            "_view_module_version": "1.5.0",
            "_view_name": "ProgressView",
            "bar_style": "success",
            "description": "",
            "description_tooltip": null,
            "layout": "IPY_MODEL_38883622ba504dcabcacb16527c7c870",
            "max": 1,
            "min": 0,
            "orientation": "horizontal",
            "style": "IPY_MODEL_4bc4047581784bbeb1d967b7ca5955bd",
            "value": 1
          }
        },
        "f30fe3ae6bf24638a53fae6466dc9d1a": {
          "model_module": "@jupyter-widgets/controls",
          "model_name": "HTMLModel",
          "model_module_version": "1.5.0",
          "state": {
            "_dom_classes": [],
            "_model_module": "@jupyter-widgets/controls",
            "_model_module_version": "1.5.0",
            "_model_name": "HTMLModel",
            "_view_count": null,
            "_view_module": "@jupyter-widgets/controls",
            "_view_module_version": "1.5.0",
            "_view_name": "HTMLView",
            "description": "",
            "description_tooltip": null,
            "layout": "IPY_MODEL_7d2bf4deac464f7cacd99bf1c1726e5a",
            "placeholder": "​",
            "style": "IPY_MODEL_40fcf367923c481f89597c63aeb28f3a",
            "value": " 900675/0 [00:02&lt;00:00, 363166.12 examples/s]"
          }
        },
        "c24ac4901ffa44c087d0408876f2c26d": {
          "model_module": "@jupyter-widgets/base",
          "model_name": "LayoutModel",
          "model_module_version": "1.2.0",
          "state": {
            "_model_module": "@jupyter-widgets/base",
            "_model_module_version": "1.2.0",
            "_model_name": "LayoutModel",
            "_view_count": null,
            "_view_module": "@jupyter-widgets/base",
            "_view_module_version": "1.2.0",
            "_view_name": "LayoutView",
            "align_content": null,
            "align_items": null,
            "align_self": null,
            "border": null,
            "bottom": null,
            "display": null,
            "flex": null,
            "flex_flow": null,
            "grid_area": null,
            "grid_auto_columns": null,
            "grid_auto_flow": null,
            "grid_auto_rows": null,
            "grid_column": null,
            "grid_gap": null,
            "grid_row": null,
            "grid_template_areas": null,
            "grid_template_columns": null,
            "grid_template_rows": null,
            "height": null,
            "justify_content": null,
            "justify_items": null,
            "left": null,
            "margin": null,
            "max_height": null,
            "max_width": null,
            "min_height": null,
            "min_width": null,
            "object_fit": null,
            "object_position": null,
            "order": null,
            "overflow": null,
            "overflow_x": null,
            "overflow_y": null,
            "padding": null,
            "right": null,
            "top": null,
            "visibility": null,
            "width": null
          }
        },
        "5892f6fcea424216aeebfdc09ee3c59c": {
          "model_module": "@jupyter-widgets/base",
          "model_name": "LayoutModel",
          "model_module_version": "1.2.0",
          "state": {
            "_model_module": "@jupyter-widgets/base",
            "_model_module_version": "1.2.0",
            "_model_name": "LayoutModel",
            "_view_count": null,
            "_view_module": "@jupyter-widgets/base",
            "_view_module_version": "1.2.0",
            "_view_name": "LayoutView",
            "align_content": null,
            "align_items": null,
            "align_self": null,
            "border": null,
            "bottom": null,
            "display": null,
            "flex": null,
            "flex_flow": null,
            "grid_area": null,
            "grid_auto_columns": null,
            "grid_auto_flow": null,
            "grid_auto_rows": null,
            "grid_column": null,
            "grid_gap": null,
            "grid_row": null,
            "grid_template_areas": null,
            "grid_template_columns": null,
            "grid_template_rows": null,
            "height": null,
            "justify_content": null,
            "justify_items": null,
            "left": null,
            "margin": null,
            "max_height": null,
            "max_width": null,
            "min_height": null,
            "min_width": null,
            "object_fit": null,
            "object_position": null,
            "order": null,
            "overflow": null,
            "overflow_x": null,
            "overflow_y": null,
            "padding": null,
            "right": null,
            "top": null,
            "visibility": null,
            "width": null
          }
        },
        "2d6033104ca841ffbb412598c172e3f6": {
          "model_module": "@jupyter-widgets/controls",
          "model_name": "DescriptionStyleModel",
          "model_module_version": "1.5.0",
          "state": {
            "_model_module": "@jupyter-widgets/controls",
            "_model_module_version": "1.5.0",
            "_model_name": "DescriptionStyleModel",
            "_view_count": null,
            "_view_module": "@jupyter-widgets/base",
            "_view_module_version": "1.2.0",
            "_view_name": "StyleView",
            "description_width": ""
          }
        },
        "38883622ba504dcabcacb16527c7c870": {
          "model_module": "@jupyter-widgets/base",
          "model_name": "LayoutModel",
          "model_module_version": "1.2.0",
          "state": {
            "_model_module": "@jupyter-widgets/base",
            "_model_module_version": "1.2.0",
            "_model_name": "LayoutModel",
            "_view_count": null,
            "_view_module": "@jupyter-widgets/base",
            "_view_module_version": "1.2.0",
            "_view_name": "LayoutView",
            "align_content": null,
            "align_items": null,
            "align_self": null,
            "border": null,
            "bottom": null,
            "display": null,
            "flex": null,
            "flex_flow": null,
            "grid_area": null,
            "grid_auto_columns": null,
            "grid_auto_flow": null,
            "grid_auto_rows": null,
            "grid_column": null,
            "grid_gap": null,
            "grid_row": null,
            "grid_template_areas": null,
            "grid_template_columns": null,
            "grid_template_rows": null,
            "height": null,
            "justify_content": null,
            "justify_items": null,
            "left": null,
            "margin": null,
            "max_height": null,
            "max_width": null,
            "min_height": null,
            "min_width": null,
            "object_fit": null,
            "object_position": null,
            "order": null,
            "overflow": null,
            "overflow_x": null,
            "overflow_y": null,
            "padding": null,
            "right": null,
            "top": null,
            "visibility": null,
            "width": "20px"
          }
        },
        "4bc4047581784bbeb1d967b7ca5955bd": {
          "model_module": "@jupyter-widgets/controls",
          "model_name": "ProgressStyleModel",
          "model_module_version": "1.5.0",
          "state": {
            "_model_module": "@jupyter-widgets/controls",
            "_model_module_version": "1.5.0",
            "_model_name": "ProgressStyleModel",
            "_view_count": null,
            "_view_module": "@jupyter-widgets/base",
            "_view_module_version": "1.2.0",
            "_view_name": "StyleView",
            "bar_color": null,
            "description_width": ""
          }
        },
        "7d2bf4deac464f7cacd99bf1c1726e5a": {
          "model_module": "@jupyter-widgets/base",
          "model_name": "LayoutModel",
          "model_module_version": "1.2.0",
          "state": {
            "_model_module": "@jupyter-widgets/base",
            "_model_module_version": "1.2.0",
            "_model_name": "LayoutModel",
            "_view_count": null,
            "_view_module": "@jupyter-widgets/base",
            "_view_module_version": "1.2.0",
            "_view_name": "LayoutView",
            "align_content": null,
            "align_items": null,
            "align_self": null,
            "border": null,
            "bottom": null,
            "display": null,
            "flex": null,
            "flex_flow": null,
            "grid_area": null,
            "grid_auto_columns": null,
            "grid_auto_flow": null,
            "grid_auto_rows": null,
            "grid_column": null,
            "grid_gap": null,
            "grid_row": null,
            "grid_template_areas": null,
            "grid_template_columns": null,
            "grid_template_rows": null,
            "height": null,
            "justify_content": null,
            "justify_items": null,
            "left": null,
            "margin": null,
            "max_height": null,
            "max_width": null,
            "min_height": null,
            "min_width": null,
            "object_fit": null,
            "object_position": null,
            "order": null,
            "overflow": null,
            "overflow_x": null,
            "overflow_y": null,
            "padding": null,
            "right": null,
            "top": null,
            "visibility": null,
            "width": null
          }
        },
        "40fcf367923c481f89597c63aeb28f3a": {
          "model_module": "@jupyter-widgets/controls",
          "model_name": "DescriptionStyleModel",
          "model_module_version": "1.5.0",
          "state": {
            "_model_module": "@jupyter-widgets/controls",
            "_model_module_version": "1.5.0",
            "_model_name": "DescriptionStyleModel",
            "_view_count": null,
            "_view_module": "@jupyter-widgets/base",
            "_view_module_version": "1.2.0",
            "_view_name": "StyleView",
            "description_width": ""
          }
        },
        "ba0289cd8ce54be4b3b1d44b459c3e21": {
          "model_module": "@jupyter-widgets/controls",
          "model_name": "HBoxModel",
          "model_module_version": "1.5.0",
          "state": {
            "_dom_classes": [],
            "_model_module": "@jupyter-widgets/controls",
            "_model_module_version": "1.5.0",
            "_model_name": "HBoxModel",
            "_view_count": null,
            "_view_module": "@jupyter-widgets/controls",
            "_view_module_version": "1.5.0",
            "_view_name": "HBoxView",
            "box_style": "",
            "children": [
              "IPY_MODEL_ee15ffea6c0541a58abc65f83fa39054",
              "IPY_MODEL_ee99139682e749778c5a47d74c19520e",
              "IPY_MODEL_35d5bcf07bfe4107adb53af845fab781"
            ],
            "layout": "IPY_MODEL_23e192eda9fe4a43900a7c96884e5f1b"
          }
        },
        "ee15ffea6c0541a58abc65f83fa39054": {
          "model_module": "@jupyter-widgets/controls",
          "model_name": "HTMLModel",
          "model_module_version": "1.5.0",
          "state": {
            "_dom_classes": [],
            "_model_module": "@jupyter-widgets/controls",
            "_model_module_version": "1.5.0",
            "_model_name": "HTMLModel",
            "_view_count": null,
            "_view_module": "@jupyter-widgets/controls",
            "_view_module_version": "1.5.0",
            "_view_name": "HTMLView",
            "description": "",
            "description_tooltip": null,
            "layout": "IPY_MODEL_5966e49793bc4d5d9f3885b467759f68",
            "placeholder": "​",
            "style": "IPY_MODEL_cee2a8e129f54fde83e69ca82e625be9",
            "value": "Generating val split: "
          }
        },
        "ee99139682e749778c5a47d74c19520e": {
          "model_module": "@jupyter-widgets/controls",
          "model_name": "FloatProgressModel",
          "model_module_version": "1.5.0",
          "state": {
            "_dom_classes": [],
            "_model_module": "@jupyter-widgets/controls",
            "_model_module_version": "1.5.0",
            "_model_name": "FloatProgressModel",
            "_view_count": null,
            "_view_module": "@jupyter-widgets/controls",
            "_view_module_version": "1.5.0",
            "_view_name": "ProgressView",
            "bar_style": "success",
            "description": "",
            "description_tooltip": null,
            "layout": "IPY_MODEL_8a57ba31c90340e7a440998f8c99b145",
            "max": 1,
            "min": 0,
            "orientation": "horizontal",
            "style": "IPY_MODEL_9250ea2fc35d4fae819f2291e35ee1b8",
            "value": 1
          }
        },
        "35d5bcf07bfe4107adb53af845fab781": {
          "model_module": "@jupyter-widgets/controls",
          "model_name": "HTMLModel",
          "model_module_version": "1.5.0",
          "state": {
            "_dom_classes": [],
            "_model_module": "@jupyter-widgets/controls",
            "_model_module_version": "1.5.0",
            "_model_name": "HTMLModel",
            "_view_count": null,
            "_view_module": "@jupyter-widgets/controls",
            "_view_module_version": "1.5.0",
            "_view_name": "HTMLView",
            "description": "",
            "description_tooltip": null,
            "layout": "IPY_MODEL_4e7a931256d94a52a3bb40d320e8b1b6",
            "placeholder": "​",
            "style": "IPY_MODEL_3d173c24bc55402aab821378d14b08f0",
            "value": " 3760/0 [00:00&lt;00:00, 54507.25 examples/s]"
          }
        },
        "23e192eda9fe4a43900a7c96884e5f1b": {
          "model_module": "@jupyter-widgets/base",
          "model_name": "LayoutModel",
          "model_module_version": "1.2.0",
          "state": {
            "_model_module": "@jupyter-widgets/base",
            "_model_module_version": "1.2.0",
            "_model_name": "LayoutModel",
            "_view_count": null,
            "_view_module": "@jupyter-widgets/base",
            "_view_module_version": "1.2.0",
            "_view_name": "LayoutView",
            "align_content": null,
            "align_items": null,
            "align_self": null,
            "border": null,
            "bottom": null,
            "display": null,
            "flex": null,
            "flex_flow": null,
            "grid_area": null,
            "grid_auto_columns": null,
            "grid_auto_flow": null,
            "grid_auto_rows": null,
            "grid_column": null,
            "grid_gap": null,
            "grid_row": null,
            "grid_template_areas": null,
            "grid_template_columns": null,
            "grid_template_rows": null,
            "height": null,
            "justify_content": null,
            "justify_items": null,
            "left": null,
            "margin": null,
            "max_height": null,
            "max_width": null,
            "min_height": null,
            "min_width": null,
            "object_fit": null,
            "object_position": null,
            "order": null,
            "overflow": null,
            "overflow_x": null,
            "overflow_y": null,
            "padding": null,
            "right": null,
            "top": null,
            "visibility": null,
            "width": null
          }
        },
        "5966e49793bc4d5d9f3885b467759f68": {
          "model_module": "@jupyter-widgets/base",
          "model_name": "LayoutModel",
          "model_module_version": "1.2.0",
          "state": {
            "_model_module": "@jupyter-widgets/base",
            "_model_module_version": "1.2.0",
            "_model_name": "LayoutModel",
            "_view_count": null,
            "_view_module": "@jupyter-widgets/base",
            "_view_module_version": "1.2.0",
            "_view_name": "LayoutView",
            "align_content": null,
            "align_items": null,
            "align_self": null,
            "border": null,
            "bottom": null,
            "display": null,
            "flex": null,
            "flex_flow": null,
            "grid_area": null,
            "grid_auto_columns": null,
            "grid_auto_flow": null,
            "grid_auto_rows": null,
            "grid_column": null,
            "grid_gap": null,
            "grid_row": null,
            "grid_template_areas": null,
            "grid_template_columns": null,
            "grid_template_rows": null,
            "height": null,
            "justify_content": null,
            "justify_items": null,
            "left": null,
            "margin": null,
            "max_height": null,
            "max_width": null,
            "min_height": null,
            "min_width": null,
            "object_fit": null,
            "object_position": null,
            "order": null,
            "overflow": null,
            "overflow_x": null,
            "overflow_y": null,
            "padding": null,
            "right": null,
            "top": null,
            "visibility": null,
            "width": null
          }
        },
        "cee2a8e129f54fde83e69ca82e625be9": {
          "model_module": "@jupyter-widgets/controls",
          "model_name": "DescriptionStyleModel",
          "model_module_version": "1.5.0",
          "state": {
            "_model_module": "@jupyter-widgets/controls",
            "_model_module_version": "1.5.0",
            "_model_name": "DescriptionStyleModel",
            "_view_count": null,
            "_view_module": "@jupyter-widgets/base",
            "_view_module_version": "1.2.0",
            "_view_name": "StyleView",
            "description_width": ""
          }
        },
        "8a57ba31c90340e7a440998f8c99b145": {
          "model_module": "@jupyter-widgets/base",
          "model_name": "LayoutModel",
          "model_module_version": "1.2.0",
          "state": {
            "_model_module": "@jupyter-widgets/base",
            "_model_module_version": "1.2.0",
            "_model_name": "LayoutModel",
            "_view_count": null,
            "_view_module": "@jupyter-widgets/base",
            "_view_module_version": "1.2.0",
            "_view_name": "LayoutView",
            "align_content": null,
            "align_items": null,
            "align_self": null,
            "border": null,
            "bottom": null,
            "display": null,
            "flex": null,
            "flex_flow": null,
            "grid_area": null,
            "grid_auto_columns": null,
            "grid_auto_flow": null,
            "grid_auto_rows": null,
            "grid_column": null,
            "grid_gap": null,
            "grid_row": null,
            "grid_template_areas": null,
            "grid_template_columns": null,
            "grid_template_rows": null,
            "height": null,
            "justify_content": null,
            "justify_items": null,
            "left": null,
            "margin": null,
            "max_height": null,
            "max_width": null,
            "min_height": null,
            "min_width": null,
            "object_fit": null,
            "object_position": null,
            "order": null,
            "overflow": null,
            "overflow_x": null,
            "overflow_y": null,
            "padding": null,
            "right": null,
            "top": null,
            "visibility": null,
            "width": "20px"
          }
        },
        "9250ea2fc35d4fae819f2291e35ee1b8": {
          "model_module": "@jupyter-widgets/controls",
          "model_name": "ProgressStyleModel",
          "model_module_version": "1.5.0",
          "state": {
            "_model_module": "@jupyter-widgets/controls",
            "_model_module_version": "1.5.0",
            "_model_name": "ProgressStyleModel",
            "_view_count": null,
            "_view_module": "@jupyter-widgets/base",
            "_view_module_version": "1.2.0",
            "_view_name": "StyleView",
            "bar_color": null,
            "description_width": ""
          }
        },
        "4e7a931256d94a52a3bb40d320e8b1b6": {
          "model_module": "@jupyter-widgets/base",
          "model_name": "LayoutModel",
          "model_module_version": "1.2.0",
          "state": {
            "_model_module": "@jupyter-widgets/base",
            "_model_module_version": "1.2.0",
            "_model_name": "LayoutModel",
            "_view_count": null,
            "_view_module": "@jupyter-widgets/base",
            "_view_module_version": "1.2.0",
            "_view_name": "LayoutView",
            "align_content": null,
            "align_items": null,
            "align_self": null,
            "border": null,
            "bottom": null,
            "display": null,
            "flex": null,
            "flex_flow": null,
            "grid_area": null,
            "grid_auto_columns": null,
            "grid_auto_flow": null,
            "grid_auto_rows": null,
            "grid_column": null,
            "grid_gap": null,
            "grid_row": null,
            "grid_template_areas": null,
            "grid_template_columns": null,
            "grid_template_rows": null,
            "height": null,
            "justify_content": null,
            "justify_items": null,
            "left": null,
            "margin": null,
            "max_height": null,
            "max_width": null,
            "min_height": null,
            "min_width": null,
            "object_fit": null,
            "object_position": null,
            "order": null,
            "overflow": null,
            "overflow_x": null,
            "overflow_y": null,
            "padding": null,
            "right": null,
            "top": null,
            "visibility": null,
            "width": null
          }
        },
        "3d173c24bc55402aab821378d14b08f0": {
          "model_module": "@jupyter-widgets/controls",
          "model_name": "DescriptionStyleModel",
          "model_module_version": "1.5.0",
          "state": {
            "_model_module": "@jupyter-widgets/controls",
            "_model_module_version": "1.5.0",
            "_model_name": "DescriptionStyleModel",
            "_view_count": null,
            "_view_module": "@jupyter-widgets/base",
            "_view_module_version": "1.2.0",
            "_view_name": "StyleView",
            "description_width": ""
          }
        },
        "8668361ede6942df9ab7b8d012a19cb7": {
          "model_module": "@jupyter-widgets/controls",
          "model_name": "HBoxModel",
          "model_module_version": "1.5.0",
          "state": {
            "_dom_classes": [],
            "_model_module": "@jupyter-widgets/controls",
            "_model_module_version": "1.5.0",
            "_model_name": "HBoxModel",
            "_view_count": null,
            "_view_module": "@jupyter-widgets/controls",
            "_view_module_version": "1.5.0",
            "_view_name": "HBoxView",
            "box_style": "",
            "children": [
              "IPY_MODEL_18be32e15f5f410ca0ae087c2f47fa21",
              "IPY_MODEL_e2b23f98657d4df496d3cd0911cff020",
              "IPY_MODEL_6494930f39784a9493112d3b66a9b457"
            ],
            "layout": "IPY_MODEL_76b7b0e1420643e781696a1c615d8a19"
          }
        },
        "18be32e15f5f410ca0ae087c2f47fa21": {
          "model_module": "@jupyter-widgets/controls",
          "model_name": "HTMLModel",
          "model_module_version": "1.5.0",
          "state": {
            "_dom_classes": [],
            "_model_module": "@jupyter-widgets/controls",
            "_model_module_version": "1.5.0",
            "_model_name": "HTMLModel",
            "_view_count": null,
            "_view_module": "@jupyter-widgets/controls",
            "_view_module_version": "1.5.0",
            "_view_name": "HTMLView",
            "description": "",
            "description_tooltip": null,
            "layout": "IPY_MODEL_42a20193af394eeba5a477c786f21b62",
            "placeholder": "​",
            "style": "IPY_MODEL_30b212fc01794374b5e58f844274ee58",
            "value": "Generating test split: "
          }
        },
        "e2b23f98657d4df496d3cd0911cff020": {
          "model_module": "@jupyter-widgets/controls",
          "model_name": "FloatProgressModel",
          "model_module_version": "1.5.0",
          "state": {
            "_dom_classes": [],
            "_model_module": "@jupyter-widgets/controls",
            "_model_module_version": "1.5.0",
            "_model_name": "FloatProgressModel",
            "_view_count": null,
            "_view_module": "@jupyter-widgets/controls",
            "_view_module_version": "1.5.0",
            "_view_name": "ProgressView",
            "bar_style": "success",
            "description": "",
            "description_tooltip": null,
            "layout": "IPY_MODEL_05b2357cad1c4035950fe2052d4d9d38",
            "max": 1,
            "min": 0,
            "orientation": "horizontal",
            "style": "IPY_MODEL_aa86c3d086604d22b5ebd6b8263eb6eb",
            "value": 1
          }
        },
        "6494930f39784a9493112d3b66a9b457": {
          "model_module": "@jupyter-widgets/controls",
          "model_name": "HTMLModel",
          "model_module_version": "1.5.0",
          "state": {
            "_dom_classes": [],
            "_model_module": "@jupyter-widgets/controls",
            "_model_module_version": "1.5.0",
            "_model_name": "HTMLModel",
            "_view_count": null,
            "_view_module": "@jupyter-widgets/controls",
            "_view_module_version": "1.5.0",
            "_view_name": "HTMLView",
            "description": "",
            "description_tooltip": null,
            "layout": "IPY_MODEL_e4267536dd424533804ce1104c2cd604",
            "placeholder": "​",
            "style": "IPY_MODEL_54139e1f88714a81bb9e2e3ec3ae2450",
            "value": " 4358/0 [00:00&lt;00:00, 59110.62 examples/s]"
          }
        },
        "76b7b0e1420643e781696a1c615d8a19": {
          "model_module": "@jupyter-widgets/base",
          "model_name": "LayoutModel",
          "model_module_version": "1.2.0",
          "state": {
            "_model_module": "@jupyter-widgets/base",
            "_model_module_version": "1.2.0",
            "_model_name": "LayoutModel",
            "_view_count": null,
            "_view_module": "@jupyter-widgets/base",
            "_view_module_version": "1.2.0",
            "_view_name": "LayoutView",
            "align_content": null,
            "align_items": null,
            "align_self": null,
            "border": null,
            "bottom": null,
            "display": null,
            "flex": null,
            "flex_flow": null,
            "grid_area": null,
            "grid_auto_columns": null,
            "grid_auto_flow": null,
            "grid_auto_rows": null,
            "grid_column": null,
            "grid_gap": null,
            "grid_row": null,
            "grid_template_areas": null,
            "grid_template_columns": null,
            "grid_template_rows": null,
            "height": null,
            "justify_content": null,
            "justify_items": null,
            "left": null,
            "margin": null,
            "max_height": null,
            "max_width": null,
            "min_height": null,
            "min_width": null,
            "object_fit": null,
            "object_position": null,
            "order": null,
            "overflow": null,
            "overflow_x": null,
            "overflow_y": null,
            "padding": null,
            "right": null,
            "top": null,
            "visibility": null,
            "width": null
          }
        },
        "42a20193af394eeba5a477c786f21b62": {
          "model_module": "@jupyter-widgets/base",
          "model_name": "LayoutModel",
          "model_module_version": "1.2.0",
          "state": {
            "_model_module": "@jupyter-widgets/base",
            "_model_module_version": "1.2.0",
            "_model_name": "LayoutModel",
            "_view_count": null,
            "_view_module": "@jupyter-widgets/base",
            "_view_module_version": "1.2.0",
            "_view_name": "LayoutView",
            "align_content": null,
            "align_items": null,
            "align_self": null,
            "border": null,
            "bottom": null,
            "display": null,
            "flex": null,
            "flex_flow": null,
            "grid_area": null,
            "grid_auto_columns": null,
            "grid_auto_flow": null,
            "grid_auto_rows": null,
            "grid_column": null,
            "grid_gap": null,
            "grid_row": null,
            "grid_template_areas": null,
            "grid_template_columns": null,
            "grid_template_rows": null,
            "height": null,
            "justify_content": null,
            "justify_items": null,
            "left": null,
            "margin": null,
            "max_height": null,
            "max_width": null,
            "min_height": null,
            "min_width": null,
            "object_fit": null,
            "object_position": null,
            "order": null,
            "overflow": null,
            "overflow_x": null,
            "overflow_y": null,
            "padding": null,
            "right": null,
            "top": null,
            "visibility": null,
            "width": null
          }
        },
        "30b212fc01794374b5e58f844274ee58": {
          "model_module": "@jupyter-widgets/controls",
          "model_name": "DescriptionStyleModel",
          "model_module_version": "1.5.0",
          "state": {
            "_model_module": "@jupyter-widgets/controls",
            "_model_module_version": "1.5.0",
            "_model_name": "DescriptionStyleModel",
            "_view_count": null,
            "_view_module": "@jupyter-widgets/base",
            "_view_module_version": "1.2.0",
            "_view_name": "StyleView",
            "description_width": ""
          }
        },
        "05b2357cad1c4035950fe2052d4d9d38": {
          "model_module": "@jupyter-widgets/base",
          "model_name": "LayoutModel",
          "model_module_version": "1.2.0",
          "state": {
            "_model_module": "@jupyter-widgets/base",
            "_model_module_version": "1.2.0",
            "_model_name": "LayoutModel",
            "_view_count": null,
            "_view_module": "@jupyter-widgets/base",
            "_view_module_version": "1.2.0",
            "_view_name": "LayoutView",
            "align_content": null,
            "align_items": null,
            "align_self": null,
            "border": null,
            "bottom": null,
            "display": null,
            "flex": null,
            "flex_flow": null,
            "grid_area": null,
            "grid_auto_columns": null,
            "grid_auto_flow": null,
            "grid_auto_rows": null,
            "grid_column": null,
            "grid_gap": null,
            "grid_row": null,
            "grid_template_areas": null,
            "grid_template_columns": null,
            "grid_template_rows": null,
            "height": null,
            "justify_content": null,
            "justify_items": null,
            "left": null,
            "margin": null,
            "max_height": null,
            "max_width": null,
            "min_height": null,
            "min_width": null,
            "object_fit": null,
            "object_position": null,
            "order": null,
            "overflow": null,
            "overflow_x": null,
            "overflow_y": null,
            "padding": null,
            "right": null,
            "top": null,
            "visibility": null,
            "width": "20px"
          }
        },
        "aa86c3d086604d22b5ebd6b8263eb6eb": {
          "model_module": "@jupyter-widgets/controls",
          "model_name": "ProgressStyleModel",
          "model_module_version": "1.5.0",
          "state": {
            "_model_module": "@jupyter-widgets/controls",
            "_model_module_version": "1.5.0",
            "_model_name": "ProgressStyleModel",
            "_view_count": null,
            "_view_module": "@jupyter-widgets/base",
            "_view_module_version": "1.2.0",
            "_view_name": "StyleView",
            "bar_color": null,
            "description_width": ""
          }
        },
        "e4267536dd424533804ce1104c2cd604": {
          "model_module": "@jupyter-widgets/base",
          "model_name": "LayoutModel",
          "model_module_version": "1.2.0",
          "state": {
            "_model_module": "@jupyter-widgets/base",
            "_model_module_version": "1.2.0",
            "_model_name": "LayoutModel",
            "_view_count": null,
            "_view_module": "@jupyter-widgets/base",
            "_view_module_version": "1.2.0",
            "_view_name": "LayoutView",
            "align_content": null,
            "align_items": null,
            "align_self": null,
            "border": null,
            "bottom": null,
            "display": null,
            "flex": null,
            "flex_flow": null,
            "grid_area": null,
            "grid_auto_columns": null,
            "grid_auto_flow": null,
            "grid_auto_rows": null,
            "grid_column": null,
            "grid_gap": null,
            "grid_row": null,
            "grid_template_areas": null,
            "grid_template_columns": null,
            "grid_template_rows": null,
            "height": null,
            "justify_content": null,
            "justify_items": null,
            "left": null,
            "margin": null,
            "max_height": null,
            "max_width": null,
            "min_height": null,
            "min_width": null,
            "object_fit": null,
            "object_position": null,
            "order": null,
            "overflow": null,
            "overflow_x": null,
            "overflow_y": null,
            "padding": null,
            "right": null,
            "top": null,
            "visibility": null,
            "width": null
          }
        },
        "54139e1f88714a81bb9e2e3ec3ae2450": {
          "model_module": "@jupyter-widgets/controls",
          "model_name": "DescriptionStyleModel",
          "model_module_version": "1.5.0",
          "state": {
            "_model_module": "@jupyter-widgets/controls",
            "_model_module_version": "1.5.0",
            "_model_name": "DescriptionStyleModel",
            "_view_count": null,
            "_view_module": "@jupyter-widgets/base",
            "_view_module_version": "1.2.0",
            "_view_name": "StyleView",
            "description_width": ""
          }
        }
      }
    }
  },
  "cells": [
    {
      "cell_type": "markdown",
      "metadata": {
        "id": "view-in-github",
        "colab_type": "text"
      },
      "source": [
        "<a href=\"https://colab.research.google.com/github/abudubai16/NLP-from-Scratch/blob/main/NLP_from_Scratch.ipynb\" target=\"_parent\"><img src=\"https://colab.research.google.com/assets/colab-badge.svg\" alt=\"Open In Colab\"/></a>"
      ]
    },
    {
      "cell_type": "markdown",
      "source": [
        "## Importing libraries"
      ],
      "metadata": {
        "id": "9xfoLpZ8Th3M"
      }
    },
    {
      "cell_type": "code",
      "execution_count": 1,
      "metadata": {
        "id": "dpJhKX_4Y7Yx",
        "colab": {
          "base_uri": "https://localhost:8080/"
        },
        "outputId": "8e17b5ad-9708-4361-c468-cfa210a60554"
      },
      "outputs": [
        {
          "output_type": "stream",
          "name": "stdout",
          "text": [
            "\u001b[2K     \u001b[90m━━━━━━━━━━━━━━━━━━━━━━━━━━━━━━━━━━━━━━━━\u001b[0m \u001b[32m542.0/542.0 kB\u001b[0m \u001b[31m9.3 MB/s\u001b[0m eta \u001b[36m0:00:00\u001b[0m\n",
            "\u001b[2K     \u001b[90m━━━━━━━━━━━━━━━━━━━━━━━━━━━━━━━━━━━━━━━━\u001b[0m \u001b[32m116.3/116.3 kB\u001b[0m \u001b[31m13.3 MB/s\u001b[0m eta \u001b[36m0:00:00\u001b[0m\n",
            "\u001b[2K     \u001b[90m━━━━━━━━━━━━━━━━━━━━━━━━━━━━━━━━━━━━━━━━\u001b[0m \u001b[32m194.1/194.1 kB\u001b[0m \u001b[31m15.6 MB/s\u001b[0m eta \u001b[36m0:00:00\u001b[0m\n",
            "\u001b[2K     \u001b[90m━━━━━━━━━━━━━━━━━━━━━━━━━━━━━━━━━━━━━━━━\u001b[0m \u001b[32m134.8/134.8 kB\u001b[0m \u001b[31m13.1 MB/s\u001b[0m eta \u001b[36m0:00:00\u001b[0m\n",
            "\u001b[2K     \u001b[90m━━━━━━━━━━━━━━━━━━━━━━━━━━━━━━━━━━━━━━━━\u001b[0m \u001b[32m388.9/388.9 kB\u001b[0m \u001b[31m16.2 MB/s\u001b[0m eta \u001b[36m0:00:00\u001b[0m\n",
            "\u001b[?25h"
          ]
        }
      ],
      "source": [
        "! pip install portalocker --q\n",
        "! pip install datasets --q --q\n",
        "! pip install positional-encodings[pytorch] --q --q"
      ]
    },
    {
      "cell_type": "code",
      "source": [
        "import torch\n",
        "import torch.nn as nn\n",
        "from torch.utils.data import DataLoader, Dataset\n",
        "\n",
        "from tqdm import tqdm\n",
        "from positional_encodings.torch_encodings import PositionalEncoding1D\n",
        "from datasets import load_dataset, concatenate_datasets\n",
        "\n",
        "# Tokenizers\n",
        "from tokenizers import Tokenizer\n",
        "from tokenizers.normalizers import NFD, StripAccents, Sequence, Lowercase\n",
        "from tokenizers.pre_tokenizers import WhitespaceSplit\n",
        "from tokenizers.models import WordPiece\n",
        "from tokenizers.processors import TemplateProcessing\n",
        "from tokenizers.trainers import WordPieceTrainer\n",
        "\n",
        "import os\n",
        "import time\n",
        "import math"
      ],
      "metadata": {
        "id": "x6fBe5LBbKTk"
      },
      "execution_count": 2,
      "outputs": []
    },
    {
      "cell_type": "code",
      "source": [
        "device = 'cuda' if torch.cuda.is_available() else 'cpu'"
      ],
      "metadata": {
        "id": "ptzzRtsvbRq6"
      },
      "execution_count": 3,
      "outputs": []
    },
    {
      "cell_type": "markdown",
      "source": [
        "## Load the dataset"
      ],
      "metadata": {
        "id": "QE49ZFrzyU5U"
      }
    },
    {
      "cell_type": "code",
      "source": [
        "if not os.path.exists('/content/wikitext'):\n",
        "  ! git clone 'https://huggingface.co/datasets/wikitext' --q"
      ],
      "metadata": {
        "id": "PhTLPfN9b5nf"
      },
      "execution_count": 4,
      "outputs": []
    },
    {
      "cell_type": "code",
      "source": [
        "dataset = load_dataset('parquet', data_files={\n",
        "    'train1':'/content/wikitext/wikitext-103-v1/train-00000-of-00002.parquet',\n",
        "    'train2': '/content/wikitext/wikitext-103-v1/train-00001-of-00002.parquet',\n",
        "    'val':'/content/wikitext/wikitext-103-v1/validation-00000-of-00001.parquet',\n",
        "    'test':'/content/wikitext/wikitext-103-v1/test-00000-of-00001.parquet'\n",
        "})\n",
        "\n",
        "# Dataset for training the model\n",
        "train_ds = concatenate_datasets([\n",
        "    dataset['train1'],\n",
        "      dataset['train2'],\n",
        "      dataset['test']\n",
        "])['text']\n",
        "\n",
        "# Dataset for creating the tokenizer\n",
        "stacked = concatenate_datasets([\n",
        "      dataset['train1'],\n",
        "      dataset['train2'],\n",
        "      dataset['val'],\n",
        "      dataset['test']\n",
        "  ])"
      ],
      "metadata": {
        "colab": {
          "base_uri": "https://localhost:8080/",
          "height": 0,
          "referenced_widgets": [
            "60f6ca752b244f1284c590bd2b117a58",
            "68395e54f4484a7a854ef5b4d5995ba4",
            "18d24d13cc1a4a749245ea5369e76fb0",
            "d822424ec19847ffb9a83a734f4d91a5",
            "f51c3715bf8844f1aa072aaa71b4fef6",
            "7ba29c83dfdb48be9b64d629ccae1622",
            "14bfab5178834b2e8175fa10c8329b0c",
            "ddc4ba66187a49e5a7c719b865a37920",
            "49208cf0fb9c427c96e9f32c2460cf9c",
            "f3dcfe5511bf44ea9913e57d922e534d",
            "3fa2687e221c412c837423f0c1de894e",
            "448b3346d7664836b4dfdd9359404248",
            "bfa38852ca3d4e2aa31d1df80cf038fe",
            "684c859a9bf64f0284db8e10dc52e34f",
            "f30fe3ae6bf24638a53fae6466dc9d1a",
            "c24ac4901ffa44c087d0408876f2c26d",
            "5892f6fcea424216aeebfdc09ee3c59c",
            "2d6033104ca841ffbb412598c172e3f6",
            "38883622ba504dcabcacb16527c7c870",
            "4bc4047581784bbeb1d967b7ca5955bd",
            "7d2bf4deac464f7cacd99bf1c1726e5a",
            "40fcf367923c481f89597c63aeb28f3a",
            "ba0289cd8ce54be4b3b1d44b459c3e21",
            "ee15ffea6c0541a58abc65f83fa39054",
            "ee99139682e749778c5a47d74c19520e",
            "35d5bcf07bfe4107adb53af845fab781",
            "23e192eda9fe4a43900a7c96884e5f1b",
            "5966e49793bc4d5d9f3885b467759f68",
            "cee2a8e129f54fde83e69ca82e625be9",
            "8a57ba31c90340e7a440998f8c99b145",
            "9250ea2fc35d4fae819f2291e35ee1b8",
            "4e7a931256d94a52a3bb40d320e8b1b6",
            "3d173c24bc55402aab821378d14b08f0",
            "8668361ede6942df9ab7b8d012a19cb7",
            "18be32e15f5f410ca0ae087c2f47fa21",
            "e2b23f98657d4df496d3cd0911cff020",
            "6494930f39784a9493112d3b66a9b457",
            "76b7b0e1420643e781696a1c615d8a19",
            "42a20193af394eeba5a477c786f21b62",
            "30b212fc01794374b5e58f844274ee58",
            "05b2357cad1c4035950fe2052d4d9d38",
            "aa86c3d086604d22b5ebd6b8263eb6eb",
            "e4267536dd424533804ce1104c2cd604",
            "54139e1f88714a81bb9e2e3ec3ae2450"
          ]
        },
        "id": "159FlagiciWV",
        "outputId": "3a22936e-e39a-4e26-d17f-8fbe2f22f741"
      },
      "execution_count": 5,
      "outputs": [
        {
          "output_type": "display_data",
          "data": {
            "text/plain": [
              "Generating train1 split: 0 examples [00:00, ? examples/s]"
            ],
            "application/vnd.jupyter.widget-view+json": {
              "version_major": 2,
              "version_minor": 0,
              "model_id": "60f6ca752b244f1284c590bd2b117a58"
            }
          },
          "metadata": {}
        },
        {
          "output_type": "display_data",
          "data": {
            "text/plain": [
              "Generating train2 split: 0 examples [00:00, ? examples/s]"
            ],
            "application/vnd.jupyter.widget-view+json": {
              "version_major": 2,
              "version_minor": 0,
              "model_id": "448b3346d7664836b4dfdd9359404248"
            }
          },
          "metadata": {}
        },
        {
          "output_type": "display_data",
          "data": {
            "text/plain": [
              "Generating val split: 0 examples [00:00, ? examples/s]"
            ],
            "application/vnd.jupyter.widget-view+json": {
              "version_major": 2,
              "version_minor": 0,
              "model_id": "ba0289cd8ce54be4b3b1d44b459c3e21"
            }
          },
          "metadata": {}
        },
        {
          "output_type": "display_data",
          "data": {
            "text/plain": [
              "Generating test split: 0 examples [00:00, ? examples/s]"
            ],
            "application/vnd.jupyter.widget-view+json": {
              "version_major": 2,
              "version_minor": 0,
              "model_id": "8668361ede6942df9ab7b8d012a19cb7"
            }
          },
          "metadata": {}
        }
      ]
    },
    {
      "cell_type": "markdown",
      "source": [
        "## Create the tokenizer"
      ],
      "metadata": {
        "id": "WnOA8yj-yXaW"
      }
    },
    {
      "cell_type": "code",
      "source": [
        "tokenizer = Tokenizer(WordPiece(unk_token='[UNK]'), )\n",
        "\n",
        "tokenizer.normalizer = Sequence([NFD(), Lowercase(), StripAccents()])\n",
        "tokenizer.pre_tokenizer = WhitespaceSplit()\n",
        "tokenizer.post_processor = TemplateProcessing(\n",
        "    single=\"[CLS] $A [SEP]\",\n",
        "    pair=\"[CLS] $A [SEP] $B:1 [SEP]:1\",\n",
        "    special_tokens=[\n",
        "        (\"[CLS]\", 1),\n",
        "        (\"[SEP]\", 2),\n",
        "    ],\n",
        ")\n",
        "trainer = WordPieceTrainer(vocab_size=30522, special_tokens=[\"[UNK]\", \"[CLS]\", \"[SEP]\", \"[PAD]\", \"[MASK]\"])\n",
        "\n",
        "tokenizer.trainer = WordPieceTrainer(special_tokens=[\"[UNK]\", \"[CLS]\", \"[SEP]\", \"[PAD]\", \"[MASK]\"])\n",
        "tokenizer.train_from_iterator(stacked['text'], trainer)"
      ],
      "metadata": {
        "id": "5gqfSKEnrpSo"
      },
      "execution_count": 6,
      "outputs": []
    },
    {
      "cell_type": "markdown",
      "source": [
        "## Create the dataloader"
      ],
      "metadata": {
        "id": "we8lx_1rq23E"
      }
    },
    {
      "cell_type": "code",
      "source": [
        "class token_ds(Dataset):\n",
        "  def __init__(self, ds, max_length):\n",
        "    super().__init__()\n",
        "    length = len(ds)\n",
        "    max_length += 1\n",
        "    collector = []\n",
        "    temp = torch.zeros(1, max_length)\n",
        "\n",
        "    with tqdm(total=length) as pbar:\n",
        "      for pos, line in enumerate(ds):\n",
        "        sentences = line.split('.')\n",
        "        for sentence in sentences:\n",
        "          a = torch.tensor(tokenizer.encode(sentence).ids)\n",
        "\n",
        "          size = a.shape[0]\n",
        "\n",
        "          if size==2:\n",
        "            continue\n",
        "\n",
        "          if size<max_length:\n",
        "            a = torch.cat([a.long(), torch.zeros(max_length-size).long()])\n",
        "          else:\n",
        "            a = a[:max_length]\n",
        "\n",
        "          collector.append(a.unsqueeze(0))\n",
        "\n",
        "          # Performance purpose\n",
        "          if pos%10000 == 0:\n",
        "            temp = torch.stack([temp, *collector], dim=0)\n",
        "            collector = []\n",
        "\n",
        "        pbar.update(1)\n",
        "\n",
        "    temp = torch.cat([temp, *collector], dim=0).long()\n",
        "\n",
        "    self.value = temp[1:, :-1]\n",
        "    self.target = temp[1:, 1:]\n",
        "\n",
        "  def __len__(self):\n",
        "    return self.value.shape[0]\n",
        "\n",
        "  def __getitem__(self, i):\n",
        "    return self.value[i,:], self.target[i, :]"
      ],
      "metadata": {
        "id": "gSNTf-iW6UEb"
      },
      "execution_count": 7,
      "outputs": []
    },
    {
      "cell_type": "code",
      "source": [
        "seq_len = 100"
      ],
      "metadata": {
        "id": "ZI_f16wK-DWQ"
      },
      "execution_count": 8,
      "outputs": []
    },
    {
      "cell_type": "code",
      "source": [
        "batch_size = 32\n",
        "\n",
        "val_dl = DataLoader(token_ds(dataset['val']['text'], seq_len), num_workers=2, batch_size=batch_size)"
      ],
      "metadata": {
        "colab": {
          "base_uri": "https://localhost:8080/"
        },
        "id": "HhOnQS9W8Wms",
        "outputId": "6cdad36f-0a6a-4f8c-81f8-39591a20f7b0"
      },
      "execution_count": 9,
      "outputs": [
        {
          "output_type": "stream",
          "name": "stderr",
          "text": [
            "100%|██████████| 3760/3760 [00:01<00:00, 2734.87it/s]\n"
          ]
        }
      ]
    },
    {
      "cell_type": "code",
      "source": [
        "for pos, (X,Y) in enumerate(val_dl):\n",
        "  print(f'{X} \\n {Y}')\n",
        "  print(f'{X.shape} \\n {Y.shape}')\n",
        "  break"
      ],
      "metadata": {
        "colab": {
          "base_uri": "https://localhost:8080/"
        },
        "id": "_5KLWG6i-TTi",
        "outputId": "0fa26474-6605-445b-a789-b6c6846b34e8"
      },
      "execution_count": 10,
      "outputs": [
        {
          "output_type": "stream",
          "name": "stdout",
          "text": [
            "tensor([[    1,    33,  2893,  ...,     0,     0,     0],\n",
            "        [    1,  2893, 12796,  ...,     0,     0,     0],\n",
            "        [    1,  1417,  1424,  ...,     0,     0,     0],\n",
            "        ...,\n",
            "        [    1,  1347, 20578,  ...,     0,     0,     0],\n",
            "        [    1,  2031,  1426,  ...,     0,     0,     0],\n",
            "        [    1, 16222,  7371,  ...,     0,     0,     0]]) \n",
            " tensor([[   33,  2893, 12796,  ...,     0,     0,     0],\n",
            "        [ 2893, 12796, 16222,  ...,     0,     0,     0],\n",
            "        [ 1417,  1424,  6192,  ...,     0,     0,     0],\n",
            "        ...,\n",
            "        [ 1347, 20578,  1381,  ...,     0,     0,     0],\n",
            "        [ 2031,  1426,  1510,  ...,     0,     0,     0],\n",
            "        [16222,  7371,  1510,  ...,     0,     0,     0]])\n",
            "torch.Size([32, 100]) \n",
            " torch.Size([32, 100])\n"
          ]
        }
      ]
    },
    {
      "cell_type": "markdown",
      "source": [
        "## Creating the model"
      ],
      "metadata": {
        "id": "LfQ8GF0RqcjS"
      }
    },
    {
      "cell_type": "code",
      "source": [
        "class TransformerModel(nn.Module):\n",
        "  def __init__(self, ntokens, d_model, nhead, seq_len, device, nlayers=6, dim_feedforward=2048, dropout=0.1):\n",
        "    super(TransformerModel, self).__init__()\n",
        "    self.d_model = d_model\n",
        "    self.device = device\n",
        "    \"\"\"\n",
        "    ntokens: The number of words in the dictionary\n",
        "    d_model: the size of each word embedding\n",
        "    n_head: the number of heads in each encoder layer\n",
        "    nlayers: the number of transformer encoder layers in the encoder\n",
        "    \"\"\"\n",
        "    self.seq_len = seq_len\n",
        "\n",
        "    self.embed = nn.Embedding(ntokens, d_model, padding_idx=0)\n",
        "    self.pos_embed = PositionalEncoding1D(d_model)\n",
        "\n",
        "    encoder_layer = nn.TransformerEncoderLayer(d_model,\n",
        "                                               nhead=nhead,\n",
        "                                               dim_feedforward=dim_feedforward,\n",
        "                                               dropout=dropout,\n",
        "                                               batch_first=True)\n",
        "\n",
        "    self.encoder = nn.TransformerEncoder(encoder_layer,\n",
        "                                         num_layers=nlayers,\n",
        "                                         enable_nested_tensor=True)\n",
        "    self.fc = nn.Linear(d_model, ntokens)\n",
        "    self.dropout = nn.Dropout(dropout)\n",
        "\n",
        "    self.src_mask = nn.Transformer.generate_square_subsequent_mask(seq_len).to(device)\n",
        "    self.init_weights()\n",
        "\n",
        "  def init_weights(self):\n",
        "    initrange = 0.1\n",
        "    self.embed.weight.data.uniform_(-initrange, initrange)\n",
        "    self.fc.bias.data.zero_()\n",
        "    self.fc.weight.data.uniform_(-initrange, initrange)\n",
        "\n",
        "  def forward(self, src, src_mask = None):\n",
        "    src = self.embed(src) * math.sqrt(self.d_model)\n",
        "    src = src + self.pos_embed(src)\n",
        "\n",
        "    if src_mask is None:\n",
        "      src_mask = self.src_mask\n",
        "\n",
        "    try:\n",
        "      encoded = self.encoder(src, src_mask)\n",
        "    except Exception as e:\n",
        "      print(src.device, src_mask.device)\n",
        "    target = self.dropout(self.fc(encoded))\n",
        "\n",
        "    return target"
      ],
      "metadata": {
        "id": "DC4BBepYqh4d"
      },
      "execution_count": 11,
      "outputs": []
    },
    {
      "cell_type": "markdown",
      "source": [
        "### Function for sequence generation"
      ],
      "metadata": {
        "id": "jTPFe2LnyeBe"
      }
    },
    {
      "cell_type": "code",
      "source": [
        "def generate(src: str, num_words: int):\n",
        "  src = torch.tensor(tokenizer.encode(src).ids[:-1]).long()\n",
        "\n",
        "  for _ in range(num_words):\n",
        "    # Pad the input sequence properly so that the model can understand\n",
        "    temp = src\n",
        "    pos = 10\n",
        "    if int(src.shape[0]) < seq_len:\n",
        "      temp = torch.cat([src, torch.zeros(seq_len-src.shape[0], dtype=torch.long)])\n",
        "      pos = src.shape[0]\n",
        "    if int(src.shape[0]) > seq_len:\n",
        "      temp = src[-seq_len:]\n",
        "\n",
        "    # Get the predictions of words from the model\n",
        "    temp = temp.unsqueeze(0).to(device)\n",
        "    dist = model(temp) # (1, seq_len, word_probability)\n",
        "    dist = dist.squeeze(0)[pos-1]  # <----- (pos-1)\n",
        "\n",
        "    # Sort the words in most likely to come next\n",
        "    dist = torch.sort(dist)[1]\n",
        "\n",
        "    # Pick out the word from the top 5 recommendations of the model\n",
        "    value = int(torch.rand(1)*5)\n",
        "    token = dist[-(1+value)].unsqueeze(dim=0).to('cpu')\n",
        "\n",
        "    # Add that word to the sentence\n",
        "\n",
        "    src = torch.cat([src, token])\n",
        "\n",
        "  src = tokenizer.decode(list(src))\n",
        "\n",
        "  return src"
      ],
      "metadata": {
        "id": "28xqhxdOykKA"
      },
      "execution_count": 12,
      "outputs": []
    },
    {
      "cell_type": "markdown",
      "source": [
        "## Training function"
      ],
      "metadata": {
        "id": "RueMqLHMDqYT"
      }
    },
    {
      "cell_type": "code",
      "source": [
        "loss_fn = nn.CrossEntropyLoss()"
      ],
      "metadata": {
        "id": "3SgYW0vXDsYk"
      },
      "execution_count": 14,
      "outputs": []
    },
    {
      "cell_type": "code",
      "source": [
        "def train(model, optim, train_dl, val_dl, l_fn, epochs, check_overfit=True):\n",
        "  H = {\n",
        "      'train_loss': [],\n",
        "      'train_acc': [],\n",
        "      'val_loss': [],\n",
        "      'val_acc': [],\n",
        "  }\n",
        "  e0 = 0\n",
        "\n",
        "  for e in range(epochs):\n",
        "    model.train()\n",
        "\n",
        "    print(f\"------------------------------------------------------------\")\n",
        "    print(f\"EPOCH : {e+1}\")\n",
        "\n",
        "    train_loss = 0\n",
        "    val_loss = 0\n",
        "    train_correct = 0\n",
        "    val_correct = 0\n",
        "\n",
        "    print(\"Training Step:\")\n",
        "    with tqdm(total=len(train_dl)) as pbar:\n",
        "      for _, (X, Y) in enumerate(train_dl):\n",
        "        Y = Y.view(-1)\n",
        "        X, Y = (X.to(device), Y.to(device))\n",
        "\n",
        "        # Forward prop\n",
        "        pred = model(X)\n",
        "        B,T,C = pred.shape\n",
        "        pred = pred.view(B*T, C)\n",
        "        loss = loss_fn(pred, Y)\n",
        "        train_loss += loss.to(\"cpu\").detach().numpy()\n",
        "\n",
        "        # Back prop\n",
        "        optim.zero_grad()\n",
        "        loss.backward()\n",
        "        optim.step()\n",
        "\n",
        "        train_correct += sum([1 for i, val in enumerate(pred.argmax(1)) if int(val) == int(Y[i])])\n",
        "\n",
        "        pbar.update(1)\n",
        "\n",
        "    print(\"\\nValidation Step:\")\n",
        "    with tqdm(total=len(val_dl)) as pbar:\n",
        "      with torch.no_grad():\n",
        "        model.eval()\n",
        "\n",
        "        for _, (X, Y) in enumerate(val_dl):\n",
        "          Y = Y.view(-1)\n",
        "          X, Y = (X.to(device), Y.to(device))\n",
        "\n",
        "          pred = model(X)\n",
        "          B,T,C = pred.shape\n",
        "          pred = pred.view(B*T, C)\n",
        "          loss = loss_fn(pred, Y)\n",
        "\n",
        "          val_loss += loss.to(\"cpu\").detach().numpy()\n",
        "          val_correct += sum([1 for i, val in enumerate(pred.argmax(1)) if int(val) == int(Y[i])])\n",
        "          pbar.update(1)\n",
        "\n",
        "\n",
        "    # Store the important specifications of the training process\n",
        "    H[\"train_loss\"].append(train_loss)\n",
        "    H[\"train_acc\"].append(train_correct / len(train_dl.dataset))\n",
        "    H[\"val_loss\"].append(val_loss)\n",
        "    H[\"val_acc\"].append(val_correct/ len(val_dl.dataset))\n",
        "\n",
        "    # Print the messages appropriately\n",
        "    print(f\"\\n\\nTrain Loss : {train_loss:.2f}\")\n",
        "    print(f\"Val Loss : {val_loss:.2f}\")\n",
        "    print(f\"Train Accuracy : {train_correct/len(train_dl.dataset):.4f}\")\n",
        "    print(f\"Val Accuracy : {val_correct/len(val_dl.dataset):.4f}\")\n",
        "\n",
        "    # Check for overfitting\n",
        "    if check_overfit and (len(H['val_acc']) > 1 and H['val_acc'][-1] < H['val_acc'][-2]):\n",
        "      print(\"The model is showing signs of over fitting enter Y to continue, or N for breaking the training loop\")\n",
        "      t = input()\n",
        "      if t == 'Y':\n",
        "        continue\n",
        "      else:\n",
        "        return H, e\n",
        "    e0 = e\n",
        "  return H, e0"
      ],
      "metadata": {
        "id": "LAe9LXOtDtMh"
      },
      "execution_count": 15,
      "outputs": []
    },
    {
      "cell_type": "markdown",
      "source": [
        "# Training the model"
      ],
      "metadata": {
        "id": "U3YPHTKBTKM6"
      }
    },
    {
      "cell_type": "code",
      "source": [
        "# Hyperparameters\n",
        "nhead = 8\n",
        "d_model = 400\n",
        "ntokens = tokenizer.get_vocab_size()\n",
        "num_inputs = seq_len\n",
        "model = TransformerModel(nhead=nhead, d_model=d_model, ntokens=ntokens, seq_len=num_inputs, device=device).to(device)\n",
        "opt = torch.optim.Adam(model.parameters(), lr=3e-5)"
      ],
      "metadata": {
        "id": "1gt5UvIhTVg9"
      },
      "execution_count": 16,
      "outputs": []
    },
    {
      "cell_type": "code",
      "source": [
        "epochs = 3\n",
        "num_sequences = 10_000\n",
        "num_repetitions = 3\n",
        "\n",
        "for i in range(num_repetitions):\n",
        "  train_dl = DataLoader(token_ds(train_ds[i*num_sequences:(i+1)*num_sequences], seq_len), num_workers=2, batch_size=batch_size)\n",
        "\n",
        "  start_time = time.time()\n",
        "  train(model, opt, train_dl, val_dl, loss_fn, epochs, check_overfit=True)\n",
        "  end_time = time.time()\n",
        "\n",
        "  print(f'\\nElapsed Time: {end_time-start_time}')"
      ],
      "metadata": {
        "id": "eXfgQbblDuvB",
        "colab": {
          "base_uri": "https://localhost:8080/",
          "height": 1000
        },
        "outputId": "c72d4ee8-cbde-4ed9-d378-42c2a00c25ca"
      },
      "execution_count": 20,
      "outputs": [
        {
          "output_type": "stream",
          "name": "stderr",
          "text": [
            "100%|██████████| 10000/10000 [00:03<00:00, 2619.87it/s]\n"
          ]
        },
        {
          "output_type": "stream",
          "name": "stdout",
          "text": [
            "------------------------------------------------------------\n",
            "EPOCH : 1\n",
            "Training Step:\n"
          ]
        },
        {
          "output_type": "stream",
          "name": "stderr",
          "text": [
            "\r  0%|          | 0/781 [00:00<?, ?it/s]/usr/lib/python3.10/multiprocessing/popen_fork.py:66: RuntimeWarning: os.fork() was called. os.fork() is incompatible with multithreaded code, and JAX is multithreaded, so this will likely lead to a deadlock.\n",
            "  self.pid = os.fork()\n",
            "100%|██████████| 781/781 [03:56<00:00,  3.30it/s]\n"
          ]
        },
        {
          "output_type": "stream",
          "name": "stdout",
          "text": [
            "\n",
            "Validation Step:\n"
          ]
        },
        {
          "output_type": "stream",
          "name": "stderr",
          "text": [
            "100%|██████████| 303/303 [00:45<00:00,  6.62it/s]\n"
          ]
        },
        {
          "output_type": "stream",
          "name": "stdout",
          "text": [
            "\n",
            "\n",
            "Train Loss : 2111.83\n",
            "Val Loss : 512.71\n",
            "Train Accuracy : 70.1710\n",
            "Val Accuracy : 79.0539\n",
            "------------------------------------------------------------\n",
            "EPOCH : 2\n",
            "Training Step:\n"
          ]
        },
        {
          "output_type": "stream",
          "name": "stderr",
          "text": [
            "100%|██████████| 781/781 [03:55<00:00,  3.31it/s]\n"
          ]
        },
        {
          "output_type": "stream",
          "name": "stdout",
          "text": [
            "\n",
            "Validation Step:\n"
          ]
        },
        {
          "output_type": "stream",
          "name": "stderr",
          "text": [
            "100%|██████████| 303/303 [00:44<00:00,  6.75it/s]\n"
          ]
        },
        {
          "output_type": "stream",
          "name": "stdout",
          "text": [
            "\n",
            "\n",
            "Train Loss : 1893.46\n",
            "Val Loss : 496.59\n",
            "Train Accuracy : 71.1070\n",
            "Val Accuracy : 79.6365\n",
            "------------------------------------------------------------\n",
            "EPOCH : 3\n",
            "Training Step:\n"
          ]
        },
        {
          "output_type": "stream",
          "name": "stderr",
          "text": [
            "100%|██████████| 781/781 [03:56<00:00,  3.31it/s]\n"
          ]
        },
        {
          "output_type": "stream",
          "name": "stdout",
          "text": [
            "\n",
            "Validation Step:\n"
          ]
        },
        {
          "output_type": "stream",
          "name": "stderr",
          "text": [
            "100%|██████████| 303/303 [00:45<00:00,  6.70it/s]\n"
          ]
        },
        {
          "output_type": "stream",
          "name": "stdout",
          "text": [
            "\n",
            "\n",
            "Train Loss : 1831.96\n",
            "Val Loss : 486.75\n",
            "Train Accuracy : 71.5562\n",
            "Val Accuracy : 80.0672\n",
            "\n",
            "Elapsed Time: 844.3062949180603\n"
          ]
        },
        {
          "output_type": "stream",
          "name": "stderr",
          "text": [
            "100%|██████████| 10000/10000 [00:03<00:00, 2831.25it/s]\n"
          ]
        },
        {
          "output_type": "stream",
          "name": "stdout",
          "text": [
            "------------------------------------------------------------\n",
            "EPOCH : 1\n",
            "Training Step:\n"
          ]
        },
        {
          "output_type": "stream",
          "name": "stderr",
          "text": [
            "100%|██████████| 757/757 [03:48<00:00,  3.31it/s]\n"
          ]
        },
        {
          "output_type": "stream",
          "name": "stdout",
          "text": [
            "\n",
            "Validation Step:\n"
          ]
        },
        {
          "output_type": "stream",
          "name": "stderr",
          "text": [
            "100%|██████████| 303/303 [00:44<00:00,  6.76it/s]\n"
          ]
        },
        {
          "output_type": "stream",
          "name": "stdout",
          "text": [
            "\n",
            "\n",
            "Train Loss : 1814.57\n",
            "Val Loss : 479.18\n",
            "Train Accuracy : 71.1365\n",
            "Val Accuracy : 80.1739\n",
            "------------------------------------------------------------\n",
            "EPOCH : 2\n",
            "Training Step:\n"
          ]
        },
        {
          "output_type": "stream",
          "name": "stderr",
          "text": [
            "100%|██████████| 757/757 [03:48<00:00,  3.31it/s]\n"
          ]
        },
        {
          "output_type": "stream",
          "name": "stdout",
          "text": [
            "\n",
            "Validation Step:\n"
          ]
        },
        {
          "output_type": "stream",
          "name": "stderr",
          "text": [
            "100%|██████████| 303/303 [00:45<00:00,  6.68it/s]\n"
          ]
        },
        {
          "output_type": "stream",
          "name": "stdout",
          "text": [
            "\n",
            "\n",
            "Train Loss : 1766.52\n",
            "Val Loss : 472.86\n",
            "Train Accuracy : 71.4211\n",
            "Val Accuracy : 80.3232\n",
            "------------------------------------------------------------\n",
            "EPOCH : 3\n",
            "Training Step:\n"
          ]
        },
        {
          "output_type": "stream",
          "name": "stderr",
          "text": [
            "100%|██████████| 757/757 [03:48<00:00,  3.31it/s]\n"
          ]
        },
        {
          "output_type": "stream",
          "name": "stdout",
          "text": [
            "\n",
            "Validation Step:\n"
          ]
        },
        {
          "output_type": "stream",
          "name": "stderr",
          "text": [
            "100%|██████████| 303/303 [00:45<00:00,  6.72it/s]\n"
          ]
        },
        {
          "output_type": "stream",
          "name": "stdout",
          "text": [
            "\n",
            "\n",
            "Train Loss : 1729.99\n",
            "Val Loss : 467.75\n",
            "Train Accuracy : 71.6300\n",
            "Val Accuracy : 80.4186\n",
            "\n",
            "Elapsed Time: 821.4000256061554\n"
          ]
        },
        {
          "output_type": "stream",
          "name": "stderr",
          "text": [
            "100%|██████████| 10000/10000 [00:03<00:00, 2990.58it/s]\n"
          ]
        },
        {
          "output_type": "error",
          "ename": "RuntimeError",
          "evalue": "Tensors must have same number of dimensions: got 3 and 2",
          "traceback": [
            "\u001b[0;31m---------------------------------------------------------------------------\u001b[0m",
            "\u001b[0;31mRuntimeError\u001b[0m                              Traceback (most recent call last)",
            "\u001b[0;32m<ipython-input-20-4639f493d5d2>\u001b[0m in \u001b[0;36m<cell line: 5>\u001b[0;34m()\u001b[0m\n\u001b[1;32m      4\u001b[0m \u001b[0;34m\u001b[0m\u001b[0m\n\u001b[1;32m      5\u001b[0m \u001b[0;32mfor\u001b[0m \u001b[0mi\u001b[0m \u001b[0;32min\u001b[0m \u001b[0mrange\u001b[0m\u001b[0;34m(\u001b[0m\u001b[0mnum_repetitions\u001b[0m\u001b[0;34m)\u001b[0m\u001b[0;34m:\u001b[0m\u001b[0;34m\u001b[0m\u001b[0;34m\u001b[0m\u001b[0m\n\u001b[0;32m----> 6\u001b[0;31m   \u001b[0mtrain_dl\u001b[0m \u001b[0;34m=\u001b[0m \u001b[0mDataLoader\u001b[0m\u001b[0;34m(\u001b[0m\u001b[0mtoken_ds\u001b[0m\u001b[0;34m(\u001b[0m\u001b[0mtrain_ds\u001b[0m\u001b[0;34m[\u001b[0m\u001b[0mi\u001b[0m\u001b[0;34m*\u001b[0m\u001b[0mnum_sequences\u001b[0m\u001b[0;34m:\u001b[0m\u001b[0;34m(\u001b[0m\u001b[0mi\u001b[0m\u001b[0;34m+\u001b[0m\u001b[0;36m1\u001b[0m\u001b[0;34m)\u001b[0m\u001b[0;34m*\u001b[0m\u001b[0mnum_sequences\u001b[0m\u001b[0;34m]\u001b[0m\u001b[0;34m,\u001b[0m \u001b[0mseq_len\u001b[0m\u001b[0;34m)\u001b[0m\u001b[0;34m,\u001b[0m \u001b[0mnum_workers\u001b[0m\u001b[0;34m=\u001b[0m\u001b[0;36m2\u001b[0m\u001b[0;34m,\u001b[0m \u001b[0mbatch_size\u001b[0m\u001b[0;34m=\u001b[0m\u001b[0mbatch_size\u001b[0m\u001b[0;34m)\u001b[0m\u001b[0;34m\u001b[0m\u001b[0;34m\u001b[0m\u001b[0m\n\u001b[0m\u001b[1;32m      7\u001b[0m \u001b[0;34m\u001b[0m\u001b[0m\n\u001b[1;32m      8\u001b[0m   \u001b[0mstart_time\u001b[0m \u001b[0;34m=\u001b[0m \u001b[0mtime\u001b[0m\u001b[0;34m.\u001b[0m\u001b[0mtime\u001b[0m\u001b[0;34m(\u001b[0m\u001b[0;34m)\u001b[0m\u001b[0;34m\u001b[0m\u001b[0;34m\u001b[0m\u001b[0m\n",
            "\u001b[0;32m<ipython-input-7-f85975d7732d>\u001b[0m in \u001b[0;36m__init__\u001b[0;34m(self, ds, max_length)\u001b[0m\n\u001b[1;32m     32\u001b[0m         \u001b[0mpbar\u001b[0m\u001b[0;34m.\u001b[0m\u001b[0mupdate\u001b[0m\u001b[0;34m(\u001b[0m\u001b[0;36m1\u001b[0m\u001b[0;34m)\u001b[0m\u001b[0;34m\u001b[0m\u001b[0;34m\u001b[0m\u001b[0m\n\u001b[1;32m     33\u001b[0m \u001b[0;34m\u001b[0m\u001b[0m\n\u001b[0;32m---> 34\u001b[0;31m     \u001b[0mtemp\u001b[0m \u001b[0;34m=\u001b[0m \u001b[0mtorch\u001b[0m\u001b[0;34m.\u001b[0m\u001b[0mcat\u001b[0m\u001b[0;34m(\u001b[0m\u001b[0;34m[\u001b[0m\u001b[0mtemp\u001b[0m\u001b[0;34m,\u001b[0m \u001b[0;34m*\u001b[0m\u001b[0mcollector\u001b[0m\u001b[0;34m]\u001b[0m\u001b[0;34m,\u001b[0m \u001b[0mdim\u001b[0m\u001b[0;34m=\u001b[0m\u001b[0;36m0\u001b[0m\u001b[0;34m)\u001b[0m\u001b[0;34m.\u001b[0m\u001b[0mlong\u001b[0m\u001b[0;34m(\u001b[0m\u001b[0;34m)\u001b[0m\u001b[0;34m\u001b[0m\u001b[0;34m\u001b[0m\u001b[0m\n\u001b[0m\u001b[1;32m     35\u001b[0m \u001b[0;34m\u001b[0m\u001b[0m\n\u001b[1;32m     36\u001b[0m     \u001b[0mself\u001b[0m\u001b[0;34m.\u001b[0m\u001b[0mvalue\u001b[0m \u001b[0;34m=\u001b[0m \u001b[0mtemp\u001b[0m\u001b[0;34m[\u001b[0m\u001b[0;36m1\u001b[0m\u001b[0;34m:\u001b[0m\u001b[0;34m,\u001b[0m \u001b[0;34m:\u001b[0m\u001b[0;34m-\u001b[0m\u001b[0;36m1\u001b[0m\u001b[0;34m]\u001b[0m\u001b[0;34m\u001b[0m\u001b[0;34m\u001b[0m\u001b[0m\n",
            "\u001b[0;31mRuntimeError\u001b[0m: Tensors must have same number of dimensions: got 3 and 2"
          ]
        }
      ]
    },
    {
      "cell_type": "markdown",
      "source": [
        "## Testing the model"
      ],
      "metadata": {
        "id": "zUNkr46cyoI_"
      }
    },
    {
      "cell_type": "code",
      "source": [
        "test = 'from what i understand'\n",
        "generate(test, num_words=50)"
      ],
      "metadata": {
        "id": "kGzdILt2ynna",
        "outputId": "678b5554-049d-4928-ba25-4ec61121079d",
        "colab": {
          "base_uri": "https://localhost:8080/",
          "height": 54
        }
      },
      "execution_count": 21,
      "outputs": [
        {
          "output_type": "execute_result",
          "data": {
            "text/plain": [
              "\"from what i understand that she 's first to the first world , the song in his own the last other in which was not the second @-@ home to become to a few years in a single and was a single the first season by <unk>\""
            ],
            "application/vnd.google.colaboratory.intrinsic+json": {
              "type": "string"
            }
          },
          "metadata": {},
          "execution_count": 21
        }
      ]
    },
    {
      "cell_type": "code",
      "source": [],
      "metadata": {
        "id": "3isTR0wJV_ne"
      },
      "execution_count": null,
      "outputs": []
    }
  ]
}