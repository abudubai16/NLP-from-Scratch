{
  "nbformat": 4,
  "nbformat_minor": 0,
  "metadata": {
    "colab": {
      "provenance": [],
      "gpuType": "T4",
      "collapsed_sections": [
        "QE49ZFrzyU5U",
        "WnOA8yj-yXaW",
        "we8lx_1rq23E",
        "LfQ8GF0RqcjS"
      ],
      "authorship_tag": "ABX9TyOgHQq41Wti66Sh7r+B+CLP",
      "include_colab_link": true
    },
    "kernelspec": {
      "name": "python3",
      "display_name": "Python 3"
    },
    "language_info": {
      "name": "python"
    },
    "accelerator": "GPU",
    "widgets": {
      "application/vnd.jupyter.widget-state+json": {
        "c6e6715987284950b19dd5eb6dabb407": {
          "model_module": "@jupyter-widgets/controls",
          "model_name": "HBoxModel",
          "model_module_version": "1.5.0",
          "state": {
            "_dom_classes": [],
            "_model_module": "@jupyter-widgets/controls",
            "_model_module_version": "1.5.0",
            "_model_name": "HBoxModel",
            "_view_count": null,
            "_view_module": "@jupyter-widgets/controls",
            "_view_module_version": "1.5.0",
            "_view_name": "HBoxView",
            "box_style": "",
            "children": [
              "IPY_MODEL_a427615f06524fb18bf221a1a4759e49",
              "IPY_MODEL_9c67be18b1914f2c81c1ec0d8e000d34",
              "IPY_MODEL_2d2db72b3a294f96adbe07898ba43304"
            ],
            "layout": "IPY_MODEL_49f18b3c8bba418eaa7c1ae56e3c9e86"
          }
        },
        "a427615f06524fb18bf221a1a4759e49": {
          "model_module": "@jupyter-widgets/controls",
          "model_name": "HTMLModel",
          "model_module_version": "1.5.0",
          "state": {
            "_dom_classes": [],
            "_model_module": "@jupyter-widgets/controls",
            "_model_module_version": "1.5.0",
            "_model_name": "HTMLModel",
            "_view_count": null,
            "_view_module": "@jupyter-widgets/controls",
            "_view_module_version": "1.5.0",
            "_view_name": "HTMLView",
            "description": "",
            "description_tooltip": null,
            "layout": "IPY_MODEL_386596253a5e41a689aa19fd591ee70d",
            "placeholder": "​",
            "style": "IPY_MODEL_a108d9cdee7e4bbdbaf6da2ec5ff61bd",
            "value": "Generating train1 split: "
          }
        },
        "9c67be18b1914f2c81c1ec0d8e000d34": {
          "model_module": "@jupyter-widgets/controls",
          "model_name": "FloatProgressModel",
          "model_module_version": "1.5.0",
          "state": {
            "_dom_classes": [],
            "_model_module": "@jupyter-widgets/controls",
            "_model_module_version": "1.5.0",
            "_model_name": "FloatProgressModel",
            "_view_count": null,
            "_view_module": "@jupyter-widgets/controls",
            "_view_module_version": "1.5.0",
            "_view_name": "ProgressView",
            "bar_style": "success",
            "description": "",
            "description_tooltip": null,
            "layout": "IPY_MODEL_ae0d2ea93c9741f7bf9f3ca557776783",
            "max": 1,
            "min": 0,
            "orientation": "horizontal",
            "style": "IPY_MODEL_4b664541a7b942b38416c23c489d46a4",
            "value": 1
          }
        },
        "2d2db72b3a294f96adbe07898ba43304": {
          "model_module": "@jupyter-widgets/controls",
          "model_name": "HTMLModel",
          "model_module_version": "1.5.0",
          "state": {
            "_dom_classes": [],
            "_model_module": "@jupyter-widgets/controls",
            "_model_module_version": "1.5.0",
            "_model_name": "HTMLModel",
            "_view_count": null,
            "_view_module": "@jupyter-widgets/controls",
            "_view_module_version": "1.5.0",
            "_view_name": "HTMLView",
            "description": "",
            "description_tooltip": null,
            "layout": "IPY_MODEL_0143f142adc2456db3f15e0de00d5386",
            "placeholder": "​",
            "style": "IPY_MODEL_90c00e14bbe5435fb2254c67e274dfac",
            "value": " 900675/0 [00:02&lt;00:00, 354743.25 examples/s]"
          }
        },
        "49f18b3c8bba418eaa7c1ae56e3c9e86": {
          "model_module": "@jupyter-widgets/base",
          "model_name": "LayoutModel",
          "model_module_version": "1.2.0",
          "state": {
            "_model_module": "@jupyter-widgets/base",
            "_model_module_version": "1.2.0",
            "_model_name": "LayoutModel",
            "_view_count": null,
            "_view_module": "@jupyter-widgets/base",
            "_view_module_version": "1.2.0",
            "_view_name": "LayoutView",
            "align_content": null,
            "align_items": null,
            "align_self": null,
            "border": null,
            "bottom": null,
            "display": null,
            "flex": null,
            "flex_flow": null,
            "grid_area": null,
            "grid_auto_columns": null,
            "grid_auto_flow": null,
            "grid_auto_rows": null,
            "grid_column": null,
            "grid_gap": null,
            "grid_row": null,
            "grid_template_areas": null,
            "grid_template_columns": null,
            "grid_template_rows": null,
            "height": null,
            "justify_content": null,
            "justify_items": null,
            "left": null,
            "margin": null,
            "max_height": null,
            "max_width": null,
            "min_height": null,
            "min_width": null,
            "object_fit": null,
            "object_position": null,
            "order": null,
            "overflow": null,
            "overflow_x": null,
            "overflow_y": null,
            "padding": null,
            "right": null,
            "top": null,
            "visibility": null,
            "width": null
          }
        },
        "386596253a5e41a689aa19fd591ee70d": {
          "model_module": "@jupyter-widgets/base",
          "model_name": "LayoutModel",
          "model_module_version": "1.2.0",
          "state": {
            "_model_module": "@jupyter-widgets/base",
            "_model_module_version": "1.2.0",
            "_model_name": "LayoutModel",
            "_view_count": null,
            "_view_module": "@jupyter-widgets/base",
            "_view_module_version": "1.2.0",
            "_view_name": "LayoutView",
            "align_content": null,
            "align_items": null,
            "align_self": null,
            "border": null,
            "bottom": null,
            "display": null,
            "flex": null,
            "flex_flow": null,
            "grid_area": null,
            "grid_auto_columns": null,
            "grid_auto_flow": null,
            "grid_auto_rows": null,
            "grid_column": null,
            "grid_gap": null,
            "grid_row": null,
            "grid_template_areas": null,
            "grid_template_columns": null,
            "grid_template_rows": null,
            "height": null,
            "justify_content": null,
            "justify_items": null,
            "left": null,
            "margin": null,
            "max_height": null,
            "max_width": null,
            "min_height": null,
            "min_width": null,
            "object_fit": null,
            "object_position": null,
            "order": null,
            "overflow": null,
            "overflow_x": null,
            "overflow_y": null,
            "padding": null,
            "right": null,
            "top": null,
            "visibility": null,
            "width": null
          }
        },
        "a108d9cdee7e4bbdbaf6da2ec5ff61bd": {
          "model_module": "@jupyter-widgets/controls",
          "model_name": "DescriptionStyleModel",
          "model_module_version": "1.5.0",
          "state": {
            "_model_module": "@jupyter-widgets/controls",
            "_model_module_version": "1.5.0",
            "_model_name": "DescriptionStyleModel",
            "_view_count": null,
            "_view_module": "@jupyter-widgets/base",
            "_view_module_version": "1.2.0",
            "_view_name": "StyleView",
            "description_width": ""
          }
        },
        "ae0d2ea93c9741f7bf9f3ca557776783": {
          "model_module": "@jupyter-widgets/base",
          "model_name": "LayoutModel",
          "model_module_version": "1.2.0",
          "state": {
            "_model_module": "@jupyter-widgets/base",
            "_model_module_version": "1.2.0",
            "_model_name": "LayoutModel",
            "_view_count": null,
            "_view_module": "@jupyter-widgets/base",
            "_view_module_version": "1.2.0",
            "_view_name": "LayoutView",
            "align_content": null,
            "align_items": null,
            "align_self": null,
            "border": null,
            "bottom": null,
            "display": null,
            "flex": null,
            "flex_flow": null,
            "grid_area": null,
            "grid_auto_columns": null,
            "grid_auto_flow": null,
            "grid_auto_rows": null,
            "grid_column": null,
            "grid_gap": null,
            "grid_row": null,
            "grid_template_areas": null,
            "grid_template_columns": null,
            "grid_template_rows": null,
            "height": null,
            "justify_content": null,
            "justify_items": null,
            "left": null,
            "margin": null,
            "max_height": null,
            "max_width": null,
            "min_height": null,
            "min_width": null,
            "object_fit": null,
            "object_position": null,
            "order": null,
            "overflow": null,
            "overflow_x": null,
            "overflow_y": null,
            "padding": null,
            "right": null,
            "top": null,
            "visibility": null,
            "width": "20px"
          }
        },
        "4b664541a7b942b38416c23c489d46a4": {
          "model_module": "@jupyter-widgets/controls",
          "model_name": "ProgressStyleModel",
          "model_module_version": "1.5.0",
          "state": {
            "_model_module": "@jupyter-widgets/controls",
            "_model_module_version": "1.5.0",
            "_model_name": "ProgressStyleModel",
            "_view_count": null,
            "_view_module": "@jupyter-widgets/base",
            "_view_module_version": "1.2.0",
            "_view_name": "StyleView",
            "bar_color": null,
            "description_width": ""
          }
        },
        "0143f142adc2456db3f15e0de00d5386": {
          "model_module": "@jupyter-widgets/base",
          "model_name": "LayoutModel",
          "model_module_version": "1.2.0",
          "state": {
            "_model_module": "@jupyter-widgets/base",
            "_model_module_version": "1.2.0",
            "_model_name": "LayoutModel",
            "_view_count": null,
            "_view_module": "@jupyter-widgets/base",
            "_view_module_version": "1.2.0",
            "_view_name": "LayoutView",
            "align_content": null,
            "align_items": null,
            "align_self": null,
            "border": null,
            "bottom": null,
            "display": null,
            "flex": null,
            "flex_flow": null,
            "grid_area": null,
            "grid_auto_columns": null,
            "grid_auto_flow": null,
            "grid_auto_rows": null,
            "grid_column": null,
            "grid_gap": null,
            "grid_row": null,
            "grid_template_areas": null,
            "grid_template_columns": null,
            "grid_template_rows": null,
            "height": null,
            "justify_content": null,
            "justify_items": null,
            "left": null,
            "margin": null,
            "max_height": null,
            "max_width": null,
            "min_height": null,
            "min_width": null,
            "object_fit": null,
            "object_position": null,
            "order": null,
            "overflow": null,
            "overflow_x": null,
            "overflow_y": null,
            "padding": null,
            "right": null,
            "top": null,
            "visibility": null,
            "width": null
          }
        },
        "90c00e14bbe5435fb2254c67e274dfac": {
          "model_module": "@jupyter-widgets/controls",
          "model_name": "DescriptionStyleModel",
          "model_module_version": "1.5.0",
          "state": {
            "_model_module": "@jupyter-widgets/controls",
            "_model_module_version": "1.5.0",
            "_model_name": "DescriptionStyleModel",
            "_view_count": null,
            "_view_module": "@jupyter-widgets/base",
            "_view_module_version": "1.2.0",
            "_view_name": "StyleView",
            "description_width": ""
          }
        },
        "0fcc37894e3e4bf1b92a1275bfa9e388": {
          "model_module": "@jupyter-widgets/controls",
          "model_name": "HBoxModel",
          "model_module_version": "1.5.0",
          "state": {
            "_dom_classes": [],
            "_model_module": "@jupyter-widgets/controls",
            "_model_module_version": "1.5.0",
            "_model_name": "HBoxModel",
            "_view_count": null,
            "_view_module": "@jupyter-widgets/controls",
            "_view_module_version": "1.5.0",
            "_view_name": "HBoxView",
            "box_style": "",
            "children": [
              "IPY_MODEL_e098400ab51a4608b800d42517b9ffeb",
              "IPY_MODEL_0ea57c6475194fc280ffeac7e4e38bfa",
              "IPY_MODEL_e3c5b70e7aa6418c87515a40df72cf86"
            ],
            "layout": "IPY_MODEL_02fa9f3ff2da4e18aa0e4d7f243cd96d"
          }
        },
        "e098400ab51a4608b800d42517b9ffeb": {
          "model_module": "@jupyter-widgets/controls",
          "model_name": "HTMLModel",
          "model_module_version": "1.5.0",
          "state": {
            "_dom_classes": [],
            "_model_module": "@jupyter-widgets/controls",
            "_model_module_version": "1.5.0",
            "_model_name": "HTMLModel",
            "_view_count": null,
            "_view_module": "@jupyter-widgets/controls",
            "_view_module_version": "1.5.0",
            "_view_name": "HTMLView",
            "description": "",
            "description_tooltip": null,
            "layout": "IPY_MODEL_a0144ccb5ade43c6a74fdd0aa6c3e97e",
            "placeholder": "​",
            "style": "IPY_MODEL_0cc5aafd7bfb46f6a3ab4c22fad5b343",
            "value": "Generating train2 split: "
          }
        },
        "0ea57c6475194fc280ffeac7e4e38bfa": {
          "model_module": "@jupyter-widgets/controls",
          "model_name": "FloatProgressModel",
          "model_module_version": "1.5.0",
          "state": {
            "_dom_classes": [],
            "_model_module": "@jupyter-widgets/controls",
            "_model_module_version": "1.5.0",
            "_model_name": "FloatProgressModel",
            "_view_count": null,
            "_view_module": "@jupyter-widgets/controls",
            "_view_module_version": "1.5.0",
            "_view_name": "ProgressView",
            "bar_style": "success",
            "description": "",
            "description_tooltip": null,
            "layout": "IPY_MODEL_37512593265a4148bb78546497794e6d",
            "max": 1,
            "min": 0,
            "orientation": "horizontal",
            "style": "IPY_MODEL_da6be6cac7fb4384aa162e31cf53fca7",
            "value": 1
          }
        },
        "e3c5b70e7aa6418c87515a40df72cf86": {
          "model_module": "@jupyter-widgets/controls",
          "model_name": "HTMLModel",
          "model_module_version": "1.5.0",
          "state": {
            "_dom_classes": [],
            "_model_module": "@jupyter-widgets/controls",
            "_model_module_version": "1.5.0",
            "_model_name": "HTMLModel",
            "_view_count": null,
            "_view_module": "@jupyter-widgets/controls",
            "_view_module_version": "1.5.0",
            "_view_name": "HTMLView",
            "description": "",
            "description_tooltip": null,
            "layout": "IPY_MODEL_c7feccb93b2f4badbfae72422b1546a8",
            "placeholder": "​",
            "style": "IPY_MODEL_6245d0345d4642e7a0357262ec64a913",
            "value": " 900675/0 [00:03&lt;00:00, 256277.14 examples/s]"
          }
        },
        "02fa9f3ff2da4e18aa0e4d7f243cd96d": {
          "model_module": "@jupyter-widgets/base",
          "model_name": "LayoutModel",
          "model_module_version": "1.2.0",
          "state": {
            "_model_module": "@jupyter-widgets/base",
            "_model_module_version": "1.2.0",
            "_model_name": "LayoutModel",
            "_view_count": null,
            "_view_module": "@jupyter-widgets/base",
            "_view_module_version": "1.2.0",
            "_view_name": "LayoutView",
            "align_content": null,
            "align_items": null,
            "align_self": null,
            "border": null,
            "bottom": null,
            "display": null,
            "flex": null,
            "flex_flow": null,
            "grid_area": null,
            "grid_auto_columns": null,
            "grid_auto_flow": null,
            "grid_auto_rows": null,
            "grid_column": null,
            "grid_gap": null,
            "grid_row": null,
            "grid_template_areas": null,
            "grid_template_columns": null,
            "grid_template_rows": null,
            "height": null,
            "justify_content": null,
            "justify_items": null,
            "left": null,
            "margin": null,
            "max_height": null,
            "max_width": null,
            "min_height": null,
            "min_width": null,
            "object_fit": null,
            "object_position": null,
            "order": null,
            "overflow": null,
            "overflow_x": null,
            "overflow_y": null,
            "padding": null,
            "right": null,
            "top": null,
            "visibility": null,
            "width": null
          }
        },
        "a0144ccb5ade43c6a74fdd0aa6c3e97e": {
          "model_module": "@jupyter-widgets/base",
          "model_name": "LayoutModel",
          "model_module_version": "1.2.0",
          "state": {
            "_model_module": "@jupyter-widgets/base",
            "_model_module_version": "1.2.0",
            "_model_name": "LayoutModel",
            "_view_count": null,
            "_view_module": "@jupyter-widgets/base",
            "_view_module_version": "1.2.0",
            "_view_name": "LayoutView",
            "align_content": null,
            "align_items": null,
            "align_self": null,
            "border": null,
            "bottom": null,
            "display": null,
            "flex": null,
            "flex_flow": null,
            "grid_area": null,
            "grid_auto_columns": null,
            "grid_auto_flow": null,
            "grid_auto_rows": null,
            "grid_column": null,
            "grid_gap": null,
            "grid_row": null,
            "grid_template_areas": null,
            "grid_template_columns": null,
            "grid_template_rows": null,
            "height": null,
            "justify_content": null,
            "justify_items": null,
            "left": null,
            "margin": null,
            "max_height": null,
            "max_width": null,
            "min_height": null,
            "min_width": null,
            "object_fit": null,
            "object_position": null,
            "order": null,
            "overflow": null,
            "overflow_x": null,
            "overflow_y": null,
            "padding": null,
            "right": null,
            "top": null,
            "visibility": null,
            "width": null
          }
        },
        "0cc5aafd7bfb46f6a3ab4c22fad5b343": {
          "model_module": "@jupyter-widgets/controls",
          "model_name": "DescriptionStyleModel",
          "model_module_version": "1.5.0",
          "state": {
            "_model_module": "@jupyter-widgets/controls",
            "_model_module_version": "1.5.0",
            "_model_name": "DescriptionStyleModel",
            "_view_count": null,
            "_view_module": "@jupyter-widgets/base",
            "_view_module_version": "1.2.0",
            "_view_name": "StyleView",
            "description_width": ""
          }
        },
        "37512593265a4148bb78546497794e6d": {
          "model_module": "@jupyter-widgets/base",
          "model_name": "LayoutModel",
          "model_module_version": "1.2.0",
          "state": {
            "_model_module": "@jupyter-widgets/base",
            "_model_module_version": "1.2.0",
            "_model_name": "LayoutModel",
            "_view_count": null,
            "_view_module": "@jupyter-widgets/base",
            "_view_module_version": "1.2.0",
            "_view_name": "LayoutView",
            "align_content": null,
            "align_items": null,
            "align_self": null,
            "border": null,
            "bottom": null,
            "display": null,
            "flex": null,
            "flex_flow": null,
            "grid_area": null,
            "grid_auto_columns": null,
            "grid_auto_flow": null,
            "grid_auto_rows": null,
            "grid_column": null,
            "grid_gap": null,
            "grid_row": null,
            "grid_template_areas": null,
            "grid_template_columns": null,
            "grid_template_rows": null,
            "height": null,
            "justify_content": null,
            "justify_items": null,
            "left": null,
            "margin": null,
            "max_height": null,
            "max_width": null,
            "min_height": null,
            "min_width": null,
            "object_fit": null,
            "object_position": null,
            "order": null,
            "overflow": null,
            "overflow_x": null,
            "overflow_y": null,
            "padding": null,
            "right": null,
            "top": null,
            "visibility": null,
            "width": "20px"
          }
        },
        "da6be6cac7fb4384aa162e31cf53fca7": {
          "model_module": "@jupyter-widgets/controls",
          "model_name": "ProgressStyleModel",
          "model_module_version": "1.5.0",
          "state": {
            "_model_module": "@jupyter-widgets/controls",
            "_model_module_version": "1.5.0",
            "_model_name": "ProgressStyleModel",
            "_view_count": null,
            "_view_module": "@jupyter-widgets/base",
            "_view_module_version": "1.2.0",
            "_view_name": "StyleView",
            "bar_color": null,
            "description_width": ""
          }
        },
        "c7feccb93b2f4badbfae72422b1546a8": {
          "model_module": "@jupyter-widgets/base",
          "model_name": "LayoutModel",
          "model_module_version": "1.2.0",
          "state": {
            "_model_module": "@jupyter-widgets/base",
            "_model_module_version": "1.2.0",
            "_model_name": "LayoutModel",
            "_view_count": null,
            "_view_module": "@jupyter-widgets/base",
            "_view_module_version": "1.2.0",
            "_view_name": "LayoutView",
            "align_content": null,
            "align_items": null,
            "align_self": null,
            "border": null,
            "bottom": null,
            "display": null,
            "flex": null,
            "flex_flow": null,
            "grid_area": null,
            "grid_auto_columns": null,
            "grid_auto_flow": null,
            "grid_auto_rows": null,
            "grid_column": null,
            "grid_gap": null,
            "grid_row": null,
            "grid_template_areas": null,
            "grid_template_columns": null,
            "grid_template_rows": null,
            "height": null,
            "justify_content": null,
            "justify_items": null,
            "left": null,
            "margin": null,
            "max_height": null,
            "max_width": null,
            "min_height": null,
            "min_width": null,
            "object_fit": null,
            "object_position": null,
            "order": null,
            "overflow": null,
            "overflow_x": null,
            "overflow_y": null,
            "padding": null,
            "right": null,
            "top": null,
            "visibility": null,
            "width": null
          }
        },
        "6245d0345d4642e7a0357262ec64a913": {
          "model_module": "@jupyter-widgets/controls",
          "model_name": "DescriptionStyleModel",
          "model_module_version": "1.5.0",
          "state": {
            "_model_module": "@jupyter-widgets/controls",
            "_model_module_version": "1.5.0",
            "_model_name": "DescriptionStyleModel",
            "_view_count": null,
            "_view_module": "@jupyter-widgets/base",
            "_view_module_version": "1.2.0",
            "_view_name": "StyleView",
            "description_width": ""
          }
        },
        "8f60ea602c6046f2a8422b8923f50f6f": {
          "model_module": "@jupyter-widgets/controls",
          "model_name": "HBoxModel",
          "model_module_version": "1.5.0",
          "state": {
            "_dom_classes": [],
            "_model_module": "@jupyter-widgets/controls",
            "_model_module_version": "1.5.0",
            "_model_name": "HBoxModel",
            "_view_count": null,
            "_view_module": "@jupyter-widgets/controls",
            "_view_module_version": "1.5.0",
            "_view_name": "HBoxView",
            "box_style": "",
            "children": [
              "IPY_MODEL_cf621df8d38b4aa28b145e40f17743a1",
              "IPY_MODEL_29ba470792624fbb9788619fd0e46b4e",
              "IPY_MODEL_34e4f5c7503949fdbda0769484479db8"
            ],
            "layout": "IPY_MODEL_d2fb55d8d0564fadb57ef355a75e5991"
          }
        },
        "cf621df8d38b4aa28b145e40f17743a1": {
          "model_module": "@jupyter-widgets/controls",
          "model_name": "HTMLModel",
          "model_module_version": "1.5.0",
          "state": {
            "_dom_classes": [],
            "_model_module": "@jupyter-widgets/controls",
            "_model_module_version": "1.5.0",
            "_model_name": "HTMLModel",
            "_view_count": null,
            "_view_module": "@jupyter-widgets/controls",
            "_view_module_version": "1.5.0",
            "_view_name": "HTMLView",
            "description": "",
            "description_tooltip": null,
            "layout": "IPY_MODEL_e937b6a183c3442a8dabac2ec95e18d3",
            "placeholder": "​",
            "style": "IPY_MODEL_5917e61e6f384b1185ddf68b7cd8d275",
            "value": "Generating val split: "
          }
        },
        "29ba470792624fbb9788619fd0e46b4e": {
          "model_module": "@jupyter-widgets/controls",
          "model_name": "FloatProgressModel",
          "model_module_version": "1.5.0",
          "state": {
            "_dom_classes": [],
            "_model_module": "@jupyter-widgets/controls",
            "_model_module_version": "1.5.0",
            "_model_name": "FloatProgressModel",
            "_view_count": null,
            "_view_module": "@jupyter-widgets/controls",
            "_view_module_version": "1.5.0",
            "_view_name": "ProgressView",
            "bar_style": "success",
            "description": "",
            "description_tooltip": null,
            "layout": "IPY_MODEL_245d48401fa04e7fa5db2bc382b1284e",
            "max": 1,
            "min": 0,
            "orientation": "horizontal",
            "style": "IPY_MODEL_23b1df84b0ba456ab76529fb3a2f7f29",
            "value": 1
          }
        },
        "34e4f5c7503949fdbda0769484479db8": {
          "model_module": "@jupyter-widgets/controls",
          "model_name": "HTMLModel",
          "model_module_version": "1.5.0",
          "state": {
            "_dom_classes": [],
            "_model_module": "@jupyter-widgets/controls",
            "_model_module_version": "1.5.0",
            "_model_name": "HTMLModel",
            "_view_count": null,
            "_view_module": "@jupyter-widgets/controls",
            "_view_module_version": "1.5.0",
            "_view_name": "HTMLView",
            "description": "",
            "description_tooltip": null,
            "layout": "IPY_MODEL_d751a44dbecf422b87e27b96cee1aead",
            "placeholder": "​",
            "style": "IPY_MODEL_b4bfa375627f4b0bbedebdda2f56eb6b",
            "value": " 3760/0 [00:00&lt;00:00, 110352.48 examples/s]"
          }
        },
        "d2fb55d8d0564fadb57ef355a75e5991": {
          "model_module": "@jupyter-widgets/base",
          "model_name": "LayoutModel",
          "model_module_version": "1.2.0",
          "state": {
            "_model_module": "@jupyter-widgets/base",
            "_model_module_version": "1.2.0",
            "_model_name": "LayoutModel",
            "_view_count": null,
            "_view_module": "@jupyter-widgets/base",
            "_view_module_version": "1.2.0",
            "_view_name": "LayoutView",
            "align_content": null,
            "align_items": null,
            "align_self": null,
            "border": null,
            "bottom": null,
            "display": null,
            "flex": null,
            "flex_flow": null,
            "grid_area": null,
            "grid_auto_columns": null,
            "grid_auto_flow": null,
            "grid_auto_rows": null,
            "grid_column": null,
            "grid_gap": null,
            "grid_row": null,
            "grid_template_areas": null,
            "grid_template_columns": null,
            "grid_template_rows": null,
            "height": null,
            "justify_content": null,
            "justify_items": null,
            "left": null,
            "margin": null,
            "max_height": null,
            "max_width": null,
            "min_height": null,
            "min_width": null,
            "object_fit": null,
            "object_position": null,
            "order": null,
            "overflow": null,
            "overflow_x": null,
            "overflow_y": null,
            "padding": null,
            "right": null,
            "top": null,
            "visibility": null,
            "width": null
          }
        },
        "e937b6a183c3442a8dabac2ec95e18d3": {
          "model_module": "@jupyter-widgets/base",
          "model_name": "LayoutModel",
          "model_module_version": "1.2.0",
          "state": {
            "_model_module": "@jupyter-widgets/base",
            "_model_module_version": "1.2.0",
            "_model_name": "LayoutModel",
            "_view_count": null,
            "_view_module": "@jupyter-widgets/base",
            "_view_module_version": "1.2.0",
            "_view_name": "LayoutView",
            "align_content": null,
            "align_items": null,
            "align_self": null,
            "border": null,
            "bottom": null,
            "display": null,
            "flex": null,
            "flex_flow": null,
            "grid_area": null,
            "grid_auto_columns": null,
            "grid_auto_flow": null,
            "grid_auto_rows": null,
            "grid_column": null,
            "grid_gap": null,
            "grid_row": null,
            "grid_template_areas": null,
            "grid_template_columns": null,
            "grid_template_rows": null,
            "height": null,
            "justify_content": null,
            "justify_items": null,
            "left": null,
            "margin": null,
            "max_height": null,
            "max_width": null,
            "min_height": null,
            "min_width": null,
            "object_fit": null,
            "object_position": null,
            "order": null,
            "overflow": null,
            "overflow_x": null,
            "overflow_y": null,
            "padding": null,
            "right": null,
            "top": null,
            "visibility": null,
            "width": null
          }
        },
        "5917e61e6f384b1185ddf68b7cd8d275": {
          "model_module": "@jupyter-widgets/controls",
          "model_name": "DescriptionStyleModel",
          "model_module_version": "1.5.0",
          "state": {
            "_model_module": "@jupyter-widgets/controls",
            "_model_module_version": "1.5.0",
            "_model_name": "DescriptionStyleModel",
            "_view_count": null,
            "_view_module": "@jupyter-widgets/base",
            "_view_module_version": "1.2.0",
            "_view_name": "StyleView",
            "description_width": ""
          }
        },
        "245d48401fa04e7fa5db2bc382b1284e": {
          "model_module": "@jupyter-widgets/base",
          "model_name": "LayoutModel",
          "model_module_version": "1.2.0",
          "state": {
            "_model_module": "@jupyter-widgets/base",
            "_model_module_version": "1.2.0",
            "_model_name": "LayoutModel",
            "_view_count": null,
            "_view_module": "@jupyter-widgets/base",
            "_view_module_version": "1.2.0",
            "_view_name": "LayoutView",
            "align_content": null,
            "align_items": null,
            "align_self": null,
            "border": null,
            "bottom": null,
            "display": null,
            "flex": null,
            "flex_flow": null,
            "grid_area": null,
            "grid_auto_columns": null,
            "grid_auto_flow": null,
            "grid_auto_rows": null,
            "grid_column": null,
            "grid_gap": null,
            "grid_row": null,
            "grid_template_areas": null,
            "grid_template_columns": null,
            "grid_template_rows": null,
            "height": null,
            "justify_content": null,
            "justify_items": null,
            "left": null,
            "margin": null,
            "max_height": null,
            "max_width": null,
            "min_height": null,
            "min_width": null,
            "object_fit": null,
            "object_position": null,
            "order": null,
            "overflow": null,
            "overflow_x": null,
            "overflow_y": null,
            "padding": null,
            "right": null,
            "top": null,
            "visibility": null,
            "width": "20px"
          }
        },
        "23b1df84b0ba456ab76529fb3a2f7f29": {
          "model_module": "@jupyter-widgets/controls",
          "model_name": "ProgressStyleModel",
          "model_module_version": "1.5.0",
          "state": {
            "_model_module": "@jupyter-widgets/controls",
            "_model_module_version": "1.5.0",
            "_model_name": "ProgressStyleModel",
            "_view_count": null,
            "_view_module": "@jupyter-widgets/base",
            "_view_module_version": "1.2.0",
            "_view_name": "StyleView",
            "bar_color": null,
            "description_width": ""
          }
        },
        "d751a44dbecf422b87e27b96cee1aead": {
          "model_module": "@jupyter-widgets/base",
          "model_name": "LayoutModel",
          "model_module_version": "1.2.0",
          "state": {
            "_model_module": "@jupyter-widgets/base",
            "_model_module_version": "1.2.0",
            "_model_name": "LayoutModel",
            "_view_count": null,
            "_view_module": "@jupyter-widgets/base",
            "_view_module_version": "1.2.0",
            "_view_name": "LayoutView",
            "align_content": null,
            "align_items": null,
            "align_self": null,
            "border": null,
            "bottom": null,
            "display": null,
            "flex": null,
            "flex_flow": null,
            "grid_area": null,
            "grid_auto_columns": null,
            "grid_auto_flow": null,
            "grid_auto_rows": null,
            "grid_column": null,
            "grid_gap": null,
            "grid_row": null,
            "grid_template_areas": null,
            "grid_template_columns": null,
            "grid_template_rows": null,
            "height": null,
            "justify_content": null,
            "justify_items": null,
            "left": null,
            "margin": null,
            "max_height": null,
            "max_width": null,
            "min_height": null,
            "min_width": null,
            "object_fit": null,
            "object_position": null,
            "order": null,
            "overflow": null,
            "overflow_x": null,
            "overflow_y": null,
            "padding": null,
            "right": null,
            "top": null,
            "visibility": null,
            "width": null
          }
        },
        "b4bfa375627f4b0bbedebdda2f56eb6b": {
          "model_module": "@jupyter-widgets/controls",
          "model_name": "DescriptionStyleModel",
          "model_module_version": "1.5.0",
          "state": {
            "_model_module": "@jupyter-widgets/controls",
            "_model_module_version": "1.5.0",
            "_model_name": "DescriptionStyleModel",
            "_view_count": null,
            "_view_module": "@jupyter-widgets/base",
            "_view_module_version": "1.2.0",
            "_view_name": "StyleView",
            "description_width": ""
          }
        },
        "52906a01864843fa99b6c888de4a0ac0": {
          "model_module": "@jupyter-widgets/controls",
          "model_name": "HBoxModel",
          "model_module_version": "1.5.0",
          "state": {
            "_dom_classes": [],
            "_model_module": "@jupyter-widgets/controls",
            "_model_module_version": "1.5.0",
            "_model_name": "HBoxModel",
            "_view_count": null,
            "_view_module": "@jupyter-widgets/controls",
            "_view_module_version": "1.5.0",
            "_view_name": "HBoxView",
            "box_style": "",
            "children": [
              "IPY_MODEL_f28fd85d986548fd9a3ce34f0a618d56",
              "IPY_MODEL_7e874b06a7304e7cb4717d7714b272e6",
              "IPY_MODEL_868758b0c93b416b90f2fd53c222242d"
            ],
            "layout": "IPY_MODEL_37cb4b1107584f7c8449704bce6be0c9"
          }
        },
        "f28fd85d986548fd9a3ce34f0a618d56": {
          "model_module": "@jupyter-widgets/controls",
          "model_name": "HTMLModel",
          "model_module_version": "1.5.0",
          "state": {
            "_dom_classes": [],
            "_model_module": "@jupyter-widgets/controls",
            "_model_module_version": "1.5.0",
            "_model_name": "HTMLModel",
            "_view_count": null,
            "_view_module": "@jupyter-widgets/controls",
            "_view_module_version": "1.5.0",
            "_view_name": "HTMLView",
            "description": "",
            "description_tooltip": null,
            "layout": "IPY_MODEL_8a9080d5f22042c6bf689fda88fdbf94",
            "placeholder": "​",
            "style": "IPY_MODEL_2c9caa6709014164877d6af3128f14ec",
            "value": "Generating test split: "
          }
        },
        "7e874b06a7304e7cb4717d7714b272e6": {
          "model_module": "@jupyter-widgets/controls",
          "model_name": "FloatProgressModel",
          "model_module_version": "1.5.0",
          "state": {
            "_dom_classes": [],
            "_model_module": "@jupyter-widgets/controls",
            "_model_module_version": "1.5.0",
            "_model_name": "FloatProgressModel",
            "_view_count": null,
            "_view_module": "@jupyter-widgets/controls",
            "_view_module_version": "1.5.0",
            "_view_name": "ProgressView",
            "bar_style": "success",
            "description": "",
            "description_tooltip": null,
            "layout": "IPY_MODEL_5fb4bf969c894f38954ce6ad374e291e",
            "max": 1,
            "min": 0,
            "orientation": "horizontal",
            "style": "IPY_MODEL_5aaa28a69d0f4bf29f6d2c3801a2a4b1",
            "value": 1
          }
        },
        "868758b0c93b416b90f2fd53c222242d": {
          "model_module": "@jupyter-widgets/controls",
          "model_name": "HTMLModel",
          "model_module_version": "1.5.0",
          "state": {
            "_dom_classes": [],
            "_model_module": "@jupyter-widgets/controls",
            "_model_module_version": "1.5.0",
            "_model_name": "HTMLModel",
            "_view_count": null,
            "_view_module": "@jupyter-widgets/controls",
            "_view_module_version": "1.5.0",
            "_view_name": "HTMLView",
            "description": "",
            "description_tooltip": null,
            "layout": "IPY_MODEL_a8affb7050dd4d5daff9d7bd31f9bf0d",
            "placeholder": "​",
            "style": "IPY_MODEL_195d9f6c7ed24c2280154d8287248f35",
            "value": " 4358/0 [00:00&lt;00:00, 126278.25 examples/s]"
          }
        },
        "37cb4b1107584f7c8449704bce6be0c9": {
          "model_module": "@jupyter-widgets/base",
          "model_name": "LayoutModel",
          "model_module_version": "1.2.0",
          "state": {
            "_model_module": "@jupyter-widgets/base",
            "_model_module_version": "1.2.0",
            "_model_name": "LayoutModel",
            "_view_count": null,
            "_view_module": "@jupyter-widgets/base",
            "_view_module_version": "1.2.0",
            "_view_name": "LayoutView",
            "align_content": null,
            "align_items": null,
            "align_self": null,
            "border": null,
            "bottom": null,
            "display": null,
            "flex": null,
            "flex_flow": null,
            "grid_area": null,
            "grid_auto_columns": null,
            "grid_auto_flow": null,
            "grid_auto_rows": null,
            "grid_column": null,
            "grid_gap": null,
            "grid_row": null,
            "grid_template_areas": null,
            "grid_template_columns": null,
            "grid_template_rows": null,
            "height": null,
            "justify_content": null,
            "justify_items": null,
            "left": null,
            "margin": null,
            "max_height": null,
            "max_width": null,
            "min_height": null,
            "min_width": null,
            "object_fit": null,
            "object_position": null,
            "order": null,
            "overflow": null,
            "overflow_x": null,
            "overflow_y": null,
            "padding": null,
            "right": null,
            "top": null,
            "visibility": null,
            "width": null
          }
        },
        "8a9080d5f22042c6bf689fda88fdbf94": {
          "model_module": "@jupyter-widgets/base",
          "model_name": "LayoutModel",
          "model_module_version": "1.2.0",
          "state": {
            "_model_module": "@jupyter-widgets/base",
            "_model_module_version": "1.2.0",
            "_model_name": "LayoutModel",
            "_view_count": null,
            "_view_module": "@jupyter-widgets/base",
            "_view_module_version": "1.2.0",
            "_view_name": "LayoutView",
            "align_content": null,
            "align_items": null,
            "align_self": null,
            "border": null,
            "bottom": null,
            "display": null,
            "flex": null,
            "flex_flow": null,
            "grid_area": null,
            "grid_auto_columns": null,
            "grid_auto_flow": null,
            "grid_auto_rows": null,
            "grid_column": null,
            "grid_gap": null,
            "grid_row": null,
            "grid_template_areas": null,
            "grid_template_columns": null,
            "grid_template_rows": null,
            "height": null,
            "justify_content": null,
            "justify_items": null,
            "left": null,
            "margin": null,
            "max_height": null,
            "max_width": null,
            "min_height": null,
            "min_width": null,
            "object_fit": null,
            "object_position": null,
            "order": null,
            "overflow": null,
            "overflow_x": null,
            "overflow_y": null,
            "padding": null,
            "right": null,
            "top": null,
            "visibility": null,
            "width": null
          }
        },
        "2c9caa6709014164877d6af3128f14ec": {
          "model_module": "@jupyter-widgets/controls",
          "model_name": "DescriptionStyleModel",
          "model_module_version": "1.5.0",
          "state": {
            "_model_module": "@jupyter-widgets/controls",
            "_model_module_version": "1.5.0",
            "_model_name": "DescriptionStyleModel",
            "_view_count": null,
            "_view_module": "@jupyter-widgets/base",
            "_view_module_version": "1.2.0",
            "_view_name": "StyleView",
            "description_width": ""
          }
        },
        "5fb4bf969c894f38954ce6ad374e291e": {
          "model_module": "@jupyter-widgets/base",
          "model_name": "LayoutModel",
          "model_module_version": "1.2.0",
          "state": {
            "_model_module": "@jupyter-widgets/base",
            "_model_module_version": "1.2.0",
            "_model_name": "LayoutModel",
            "_view_count": null,
            "_view_module": "@jupyter-widgets/base",
            "_view_module_version": "1.2.0",
            "_view_name": "LayoutView",
            "align_content": null,
            "align_items": null,
            "align_self": null,
            "border": null,
            "bottom": null,
            "display": null,
            "flex": null,
            "flex_flow": null,
            "grid_area": null,
            "grid_auto_columns": null,
            "grid_auto_flow": null,
            "grid_auto_rows": null,
            "grid_column": null,
            "grid_gap": null,
            "grid_row": null,
            "grid_template_areas": null,
            "grid_template_columns": null,
            "grid_template_rows": null,
            "height": null,
            "justify_content": null,
            "justify_items": null,
            "left": null,
            "margin": null,
            "max_height": null,
            "max_width": null,
            "min_height": null,
            "min_width": null,
            "object_fit": null,
            "object_position": null,
            "order": null,
            "overflow": null,
            "overflow_x": null,
            "overflow_y": null,
            "padding": null,
            "right": null,
            "top": null,
            "visibility": null,
            "width": "20px"
          }
        },
        "5aaa28a69d0f4bf29f6d2c3801a2a4b1": {
          "model_module": "@jupyter-widgets/controls",
          "model_name": "ProgressStyleModel",
          "model_module_version": "1.5.0",
          "state": {
            "_model_module": "@jupyter-widgets/controls",
            "_model_module_version": "1.5.0",
            "_model_name": "ProgressStyleModel",
            "_view_count": null,
            "_view_module": "@jupyter-widgets/base",
            "_view_module_version": "1.2.0",
            "_view_name": "StyleView",
            "bar_color": null,
            "description_width": ""
          }
        },
        "a8affb7050dd4d5daff9d7bd31f9bf0d": {
          "model_module": "@jupyter-widgets/base",
          "model_name": "LayoutModel",
          "model_module_version": "1.2.0",
          "state": {
            "_model_module": "@jupyter-widgets/base",
            "_model_module_version": "1.2.0",
            "_model_name": "LayoutModel",
            "_view_count": null,
            "_view_module": "@jupyter-widgets/base",
            "_view_module_version": "1.2.0",
            "_view_name": "LayoutView",
            "align_content": null,
            "align_items": null,
            "align_self": null,
            "border": null,
            "bottom": null,
            "display": null,
            "flex": null,
            "flex_flow": null,
            "grid_area": null,
            "grid_auto_columns": null,
            "grid_auto_flow": null,
            "grid_auto_rows": null,
            "grid_column": null,
            "grid_gap": null,
            "grid_row": null,
            "grid_template_areas": null,
            "grid_template_columns": null,
            "grid_template_rows": null,
            "height": null,
            "justify_content": null,
            "justify_items": null,
            "left": null,
            "margin": null,
            "max_height": null,
            "max_width": null,
            "min_height": null,
            "min_width": null,
            "object_fit": null,
            "object_position": null,
            "order": null,
            "overflow": null,
            "overflow_x": null,
            "overflow_y": null,
            "padding": null,
            "right": null,
            "top": null,
            "visibility": null,
            "width": null
          }
        },
        "195d9f6c7ed24c2280154d8287248f35": {
          "model_module": "@jupyter-widgets/controls",
          "model_name": "DescriptionStyleModel",
          "model_module_version": "1.5.0",
          "state": {
            "_model_module": "@jupyter-widgets/controls",
            "_model_module_version": "1.5.0",
            "_model_name": "DescriptionStyleModel",
            "_view_count": null,
            "_view_module": "@jupyter-widgets/base",
            "_view_module_version": "1.2.0",
            "_view_name": "StyleView",
            "description_width": ""
          }
        }
      }
    }
  },
  "cells": [
    {
      "cell_type": "markdown",
      "metadata": {
        "id": "view-in-github",
        "colab_type": "text"
      },
      "source": [
        "<a href=\"https://colab.research.google.com/github/abudubai16/NLP-from-Scratch/blob/main/NLP_from_Scratch.ipynb\" target=\"_parent\"><img src=\"https://colab.research.google.com/assets/colab-badge.svg\" alt=\"Open In Colab\"/></a>"
      ]
    },
    {
      "cell_type": "markdown",
      "source": [
        "## Importing libraries"
      ],
      "metadata": {
        "id": "9xfoLpZ8Th3M"
      }
    },
    {
      "cell_type": "code",
      "execution_count": null,
      "metadata": {
        "id": "dpJhKX_4Y7Yx",
        "colab": {
          "base_uri": "https://localhost:8080/"
        },
        "outputId": "31f3a862-554e-4433-a0d3-8799dd1bb785"
      },
      "outputs": [
        {
          "output_type": "stream",
          "name": "stdout",
          "text": [
            "\u001b[2K     \u001b[90m━━━━━━━━━━━━━━━━━━━━━━━━━━━━━━━━━━━━━━━━\u001b[0m \u001b[32m542.0/542.0 kB\u001b[0m \u001b[31m11.4 MB/s\u001b[0m eta \u001b[36m0:00:00\u001b[0m\n",
            "\u001b[2K     \u001b[90m━━━━━━━━━━━━━━━━━━━━━━━━━━━━━━━━━━━━━━━━\u001b[0m \u001b[32m116.3/116.3 kB\u001b[0m \u001b[31m10.9 MB/s\u001b[0m eta \u001b[36m0:00:00\u001b[0m\n",
            "\u001b[2K     \u001b[90m━━━━━━━━━━━━━━━━━━━━━━━━━━━━━━━━━━━━━━━━\u001b[0m \u001b[32m194.1/194.1 kB\u001b[0m \u001b[31m13.4 MB/s\u001b[0m eta \u001b[36m0:00:00\u001b[0m\n",
            "\u001b[2K     \u001b[90m━━━━━━━━━━━━━━━━━━━━━━━━━━━━━━━━━━━━━━━━\u001b[0m \u001b[32m134.8/134.8 kB\u001b[0m \u001b[31m12.8 MB/s\u001b[0m eta \u001b[36m0:00:00\u001b[0m\n",
            "\u001b[2K     \u001b[90m━━━━━━━━━━━━━━━━━━━━━━━━━━━━━━━━━━━━━━━━\u001b[0m \u001b[32m388.9/388.9 kB\u001b[0m \u001b[31m21.8 MB/s\u001b[0m eta \u001b[36m0:00:00\u001b[0m\n",
            "\u001b[?25h"
          ]
        }
      ],
      "source": [
        "! pip install portalocker --q\n",
        "! pip install datasets --q --q\n",
        "! pip install positional-encodings[pytorch] --q --q"
      ]
    },
    {
      "cell_type": "code",
      "source": [
        "import torch\n",
        "import torch.nn as nn\n",
        "from torch.utils.data import DataLoader, Dataset\n",
        "\n",
        "from tqdm import tqdm\n",
        "from positional_encodings.torch_encodings import PositionalEncoding1D\n",
        "from datasets import load_dataset, concatenate_datasets\n",
        "\n",
        "# Tokenizers\n",
        "from tokenizers import Tokenizer\n",
        "from tokenizers.normalizers import NFD, StripAccents, Sequence, Lowercase\n",
        "from tokenizers.pre_tokenizers import WhitespaceSplit\n",
        "from tokenizers.models import WordPiece\n",
        "from tokenizers.processors import TemplateProcessing\n",
        "from tokenizers.trainers import WordPieceTrainer\n",
        "\n",
        "import os\n",
        "import time\n",
        "import math"
      ],
      "metadata": {
        "id": "x6fBe5LBbKTk"
      },
      "execution_count": null,
      "outputs": []
    },
    {
      "cell_type": "code",
      "source": [
        "device = 'cuda' if torch.cuda.is_available() else 'cpu'"
      ],
      "metadata": {
        "id": "ptzzRtsvbRq6"
      },
      "execution_count": null,
      "outputs": []
    },
    {
      "cell_type": "markdown",
      "source": [
        "## Load the dataset"
      ],
      "metadata": {
        "id": "QE49ZFrzyU5U"
      }
    },
    {
      "cell_type": "code",
      "source": [
        "if not os.path.exists('/content/wikitext'):\n",
        "  ! git clone 'https://huggingface.co/datasets/wikitext' --q"
      ],
      "metadata": {
        "id": "PhTLPfN9b5nf"
      },
      "execution_count": null,
      "outputs": []
    },
    {
      "cell_type": "code",
      "source": [
        "dataset = load_dataset('parquet', data_files={\n",
        "    'train1':'/content/wikitext/wikitext-103-v1/train-00000-of-00002.parquet',\n",
        "    'train2': '/content/wikitext/wikitext-103-v1/train-00001-of-00002.parquet',\n",
        "    'val':'/content/wikitext/wikitext-103-v1/validation-00000-of-00001.parquet',\n",
        "    'test':'/content/wikitext/wikitext-103-v1/test-00000-of-00001.parquet'\n",
        "})\n",
        "\n",
        "# Dataset for training the model\n",
        "train_ds = concatenate_datasets([\n",
        "    dataset['train1'],\n",
        "      dataset['train2'],\n",
        "      dataset['test']\n",
        "])['text']\n",
        "\n",
        "# Dataset for creating the tokenizer\n",
        "stacked = concatenate_datasets([\n",
        "      dataset['train1'],\n",
        "      dataset['train2'],\n",
        "      dataset['val'],\n",
        "      dataset['test']\n",
        "  ])"
      ],
      "metadata": {
        "colab": {
          "base_uri": "https://localhost:8080/",
          "height": 145,
          "referenced_widgets": [
            "c6e6715987284950b19dd5eb6dabb407",
            "a427615f06524fb18bf221a1a4759e49",
            "9c67be18b1914f2c81c1ec0d8e000d34",
            "2d2db72b3a294f96adbe07898ba43304",
            "49f18b3c8bba418eaa7c1ae56e3c9e86",
            "386596253a5e41a689aa19fd591ee70d",
            "a108d9cdee7e4bbdbaf6da2ec5ff61bd",
            "ae0d2ea93c9741f7bf9f3ca557776783",
            "4b664541a7b942b38416c23c489d46a4",
            "0143f142adc2456db3f15e0de00d5386",
            "90c00e14bbe5435fb2254c67e274dfac",
            "0fcc37894e3e4bf1b92a1275bfa9e388",
            "e098400ab51a4608b800d42517b9ffeb",
            "0ea57c6475194fc280ffeac7e4e38bfa",
            "e3c5b70e7aa6418c87515a40df72cf86",
            "02fa9f3ff2da4e18aa0e4d7f243cd96d",
            "a0144ccb5ade43c6a74fdd0aa6c3e97e",
            "0cc5aafd7bfb46f6a3ab4c22fad5b343",
            "37512593265a4148bb78546497794e6d",
            "da6be6cac7fb4384aa162e31cf53fca7",
            "c7feccb93b2f4badbfae72422b1546a8",
            "6245d0345d4642e7a0357262ec64a913",
            "8f60ea602c6046f2a8422b8923f50f6f",
            "cf621df8d38b4aa28b145e40f17743a1",
            "29ba470792624fbb9788619fd0e46b4e",
            "34e4f5c7503949fdbda0769484479db8",
            "d2fb55d8d0564fadb57ef355a75e5991",
            "e937b6a183c3442a8dabac2ec95e18d3",
            "5917e61e6f384b1185ddf68b7cd8d275",
            "245d48401fa04e7fa5db2bc382b1284e",
            "23b1df84b0ba456ab76529fb3a2f7f29",
            "d751a44dbecf422b87e27b96cee1aead",
            "b4bfa375627f4b0bbedebdda2f56eb6b",
            "52906a01864843fa99b6c888de4a0ac0",
            "f28fd85d986548fd9a3ce34f0a618d56",
            "7e874b06a7304e7cb4717d7714b272e6",
            "868758b0c93b416b90f2fd53c222242d",
            "37cb4b1107584f7c8449704bce6be0c9",
            "8a9080d5f22042c6bf689fda88fdbf94",
            "2c9caa6709014164877d6af3128f14ec",
            "5fb4bf969c894f38954ce6ad374e291e",
            "5aaa28a69d0f4bf29f6d2c3801a2a4b1",
            "a8affb7050dd4d5daff9d7bd31f9bf0d",
            "195d9f6c7ed24c2280154d8287248f35"
          ]
        },
        "id": "159FlagiciWV",
        "outputId": "e6e03599-e35d-4003-a662-8003b81ad5e7"
      },
      "execution_count": null,
      "outputs": [
        {
          "output_type": "display_data",
          "data": {
            "text/plain": [
              "Generating train1 split: 0 examples [00:00, ? examples/s]"
            ],
            "application/vnd.jupyter.widget-view+json": {
              "version_major": 2,
              "version_minor": 0,
              "model_id": "c6e6715987284950b19dd5eb6dabb407"
            }
          },
          "metadata": {}
        },
        {
          "output_type": "display_data",
          "data": {
            "text/plain": [
              "Generating train2 split: 0 examples [00:00, ? examples/s]"
            ],
            "application/vnd.jupyter.widget-view+json": {
              "version_major": 2,
              "version_minor": 0,
              "model_id": "0fcc37894e3e4bf1b92a1275bfa9e388"
            }
          },
          "metadata": {}
        },
        {
          "output_type": "display_data",
          "data": {
            "text/plain": [
              "Generating val split: 0 examples [00:00, ? examples/s]"
            ],
            "application/vnd.jupyter.widget-view+json": {
              "version_major": 2,
              "version_minor": 0,
              "model_id": "8f60ea602c6046f2a8422b8923f50f6f"
            }
          },
          "metadata": {}
        },
        {
          "output_type": "display_data",
          "data": {
            "text/plain": [
              "Generating test split: 0 examples [00:00, ? examples/s]"
            ],
            "application/vnd.jupyter.widget-view+json": {
              "version_major": 2,
              "version_minor": 0,
              "model_id": "52906a01864843fa99b6c888de4a0ac0"
            }
          },
          "metadata": {}
        }
      ]
    },
    {
      "cell_type": "markdown",
      "source": [
        "## Create the tokenizer"
      ],
      "metadata": {
        "id": "WnOA8yj-yXaW"
      }
    },
    {
      "cell_type": "code",
      "source": [
        "tokenizer = Tokenizer(WordPiece(unk_token='[UNK]'), )\n",
        "\n",
        "tokenizer.normalizer = Sequence([NFD(), Lowercase(), StripAccents()])\n",
        "tokenizer.pre_tokenizer = WhitespaceSplit()\n",
        "tokenizer.post_processor = TemplateProcessing(\n",
        "    single=\"[CLS] $A [SEP]\",\n",
        "    pair=\"[CLS] $A [SEP] $B:1 [SEP]:1\",\n",
        "    special_tokens=[\n",
        "        (\"[CLS]\", 1),\n",
        "        (\"[SEP]\", 2),\n",
        "    ],\n",
        ")\n",
        "trainer = WordPieceTrainer(vocab_size=30522, special_tokens=[\"[UNK]\", \"[CLS]\", \"[SEP]\", \"[PAD]\", \"[MASK]\"])\n",
        "\n",
        "tokenizer.trainer = WordPieceTrainer(special_tokens=[\"[UNK]\", \"[CLS]\", \"[SEP]\", \"[PAD]\", \"[MASK]\"])\n",
        "tokenizer.train_from_iterator(stacked['text'], trainer)"
      ],
      "metadata": {
        "id": "5gqfSKEnrpSo"
      },
      "execution_count": null,
      "outputs": []
    },
    {
      "cell_type": "markdown",
      "source": [
        "## Create the dataloader"
      ],
      "metadata": {
        "id": "we8lx_1rq23E"
      }
    },
    {
      "cell_type": "code",
      "source": [
        "class token_ds(Dataset):\n",
        "  def __init__(self, ds, max_length):\n",
        "    super().__init__()\n",
        "    length = len(ds)\n",
        "    max_length += 1\n",
        "    collector = []\n",
        "    temp = torch.zeros(1, max_length)\n",
        "\n",
        "    with tqdm(total=length) as pbar:\n",
        "      for pos, line in enumerate(ds):\n",
        "        sentences = line.split('.')\n",
        "        for sentence in sentences:\n",
        "          a = torch.tensor(tokenizer.encode(sentence).ids)\n",
        "\n",
        "          size = a.shape[0]\n",
        "\n",
        "          if size==2:\n",
        "            continue\n",
        "\n",
        "          if size<max_length:\n",
        "            a = torch.cat([a.long(), torch.zeros(max_length-size).long()])\n",
        "          else:\n",
        "            a = a[:max_length]\n",
        "\n",
        "          collector.append(a.unsqueeze(0))\n",
        "\n",
        "          # Performance purpose\n",
        "          if pos%10000 == 0:\n",
        "            temp = torch.stack([temp, *collector], dim=0)\n",
        "            collector = []\n",
        "\n",
        "        pbar.update(1)\n",
        "\n",
        "    temp = torch.cat([temp, *collector], dim=0).long()\n",
        "\n",
        "    self.value = temp[1:, :-1]\n",
        "    self.target = temp[1:, 1:]\n",
        "\n",
        "  def __len__(self):\n",
        "    return self.value.shape[0]\n",
        "\n",
        "  def __getitem__(self, i):\n",
        "    return self.value[i,:], self.target[i, :]"
      ],
      "metadata": {
        "id": "gSNTf-iW6UEb"
      },
      "execution_count": null,
      "outputs": []
    },
    {
      "cell_type": "code",
      "source": [
        "seq_len = 100"
      ],
      "metadata": {
        "id": "ZI_f16wK-DWQ"
      },
      "execution_count": null,
      "outputs": []
    },
    {
      "cell_type": "code",
      "source": [
        "batch_size = 32\n",
        "\n",
        "val_dl = DataLoader(token_ds(dataset['val']['text'], seq_len), num_workers=2, batch_size=batch_size)"
      ],
      "metadata": {
        "colab": {
          "base_uri": "https://localhost:8080/"
        },
        "id": "HhOnQS9W8Wms",
        "outputId": "d59ab19a-8a6b-44a7-e77e-44217e686897"
      },
      "execution_count": null,
      "outputs": [
        {
          "output_type": "stream",
          "name": "stderr",
          "text": [
            "100%|██████████| 10000/10000 [00:03<00:00, 2992.62it/s]\n",
            "100%|██████████| 3760/3760 [00:01<00:00, 3141.27it/s]\n"
          ]
        }
      ]
    },
    {
      "cell_type": "code",
      "source": [
        "for pos, (X,Y) in enumerate(val_dl):\n",
        "  print(f'{X} \\n {Y}')\n",
        "  print(f'{X.shape} \\n {Y.shape}')\n",
        "  break"
      ],
      "metadata": {
        "colab": {
          "base_uri": "https://localhost:8080/"
        },
        "id": "_5KLWG6i-TTi",
        "outputId": "7ab74d31-e026-43be-ede9-960cd91c028f"
      },
      "execution_count": null,
      "outputs": [
        {
          "output_type": "stream",
          "name": "stdout",
          "text": [
            "tensor([[    1,    33,  2893,  ...,     0,     0,     0],\n",
            "        [    1,  2893, 12796,  ...,     0,     0,     0],\n",
            "        [    1,  1417,  1424,  ...,     0,     0,     0],\n",
            "        ...,\n",
            "        [    1,  1347, 20578,  ...,     0,     0,     0],\n",
            "        [    1,  2031,  1426,  ...,     0,     0,     0],\n",
            "        [    1, 16222,  7371,  ...,     0,     0,     0]]) \n",
            " tensor([[   33,  2893, 12796,  ...,     0,     0,     0],\n",
            "        [ 2893, 12796, 16222,  ...,     0,     0,     0],\n",
            "        [ 1417,  1424,  6192,  ...,     0,     0,     0],\n",
            "        ...,\n",
            "        [ 1347, 20578,  1381,  ...,     0,     0,     0],\n",
            "        [ 2031,  1426,  1510,  ...,     0,     0,     0],\n",
            "        [16222,  7371,  1510,  ...,     0,     0,     0]])\n",
            "torch.Size([32, 100]) \n",
            " torch.Size([32, 100])\n"
          ]
        }
      ]
    },
    {
      "cell_type": "markdown",
      "source": [
        "## Creating the model"
      ],
      "metadata": {
        "id": "LfQ8GF0RqcjS"
      }
    },
    {
      "cell_type": "code",
      "source": [
        "class TransformerModel(nn.Module):\n",
        "  def __init__(self, ntokens, d_model, nhead, seq_len, device, nlayers=6, dim_feedforward=2048, dropout=0.1):\n",
        "    super(TransformerModel, self).__init__()\n",
        "    self.d_model = d_model\n",
        "    self.device = device\n",
        "    \"\"\"\n",
        "    ntokens: The number of words in the dictionary\n",
        "    d_model: the size of each word embedding\n",
        "    n_head: the number of heads in each encoder layer\n",
        "    nlayers: the number of transformer encoder layers in the encoder\n",
        "    \"\"\"\n",
        "    self.seq_len = seq_len\n",
        "\n",
        "    self.embed = nn.Embedding(ntokens, d_model, padding_idx=0)\n",
        "    self.pos_embed = PositionalEncoding1D(d_model)\n",
        "\n",
        "    encoder_layer = nn.TransformerEncoderLayer(d_model,\n",
        "                                               nhead=nhead,\n",
        "                                               dim_feedforward=dim_feedforward,\n",
        "                                               dropout=dropout,\n",
        "                                               batch_first=True)\n",
        "\n",
        "    self.encoder = nn.TransformerEncoder(encoder_layer,\n",
        "                                         num_layers=nlayers,\n",
        "                                         enable_nested_tensor=True)\n",
        "    self.fc = nn.Linear(d_model, ntokens)\n",
        "    self.dropout = nn.Dropout(dropout)\n",
        "\n",
        "    self.src_mask = nn.Transformer.generate_square_subsequent_mask(seq_len).to(device)\n",
        "    self.init_weights()\n",
        "\n",
        "  def init_weights(self):\n",
        "    initrange = 0.1\n",
        "    self.embed.weight.data.uniform_(-initrange, initrange)\n",
        "    self.fc.bias.data.zero_()\n",
        "    self.fc.weight.data.uniform_(-initrange, initrange)\n",
        "\n",
        "  def forward(self, src, src_mask = None):\n",
        "    src = self.embed(src) * math.sqrt(self.d_model)\n",
        "    src = src + self.pos_embed(src)\n",
        "\n",
        "    if src_mask is None:\n",
        "      src_mask = self.src_mask\n",
        "\n",
        "    try:\n",
        "      encoded = self.encoder(src, src_mask)\n",
        "    except Exception as e:\n",
        "      print(src.device, src_mask.device)\n",
        "    target = self.dropout(self.fc(encoded))\n",
        "\n",
        "    return target"
      ],
      "metadata": {
        "id": "DC4BBepYqh4d"
      },
      "execution_count": null,
      "outputs": []
    },
    {
      "cell_type": "markdown",
      "source": [
        "### Function for sequence generation"
      ],
      "metadata": {
        "id": "jTPFe2LnyeBe"
      }
    },
    {
      "cell_type": "code",
      "source": [
        "def generate(src: str, num_words: int):\n",
        "  src = torch.tensor(tokenizer.encode(src).ids[:-1]).long()\n",
        "\n",
        "  for _ in range(num_words):\n",
        "    # Pad the input sequence properly so that the model can understand\n",
        "    temp = src\n",
        "    pos = 10\n",
        "    if int(src.shape[0]) < seq_len:\n",
        "      temp = torch.cat([src, torch.zeros(seq_len-src.shape[0], dtype=torch.long)])\n",
        "      pos = src.shape[0]\n",
        "    if int(src.shape[0]) > seq_len:\n",
        "      temp = src[-seq_len:]\n",
        "\n",
        "    # Get the predictions of words from the model\n",
        "    temp = temp.unsqueeze(0).to(device)\n",
        "    dist = model(temp) # (1, seq_len, word_probability)\n",
        "    dist = dist.squeeze(0)[pos-1]  # <----- (pos-1)\n",
        "\n",
        "    # Sort the words in most likely to come next\n",
        "    dist = torch.sort(dist)[1]\n",
        "\n",
        "    # Pick out the word from the top 5 recommendations of the model\n",
        "    value = int(torch.rand(1)*5)\n",
        "    token = dist[-(1+value)].unsqueeze(dim=0).to('cpu')\n",
        "\n",
        "    # Add that word to the sentence\n",
        "\n",
        "    src = torch.cat([src, token])\n",
        "\n",
        "  src = tokenizer.decode(list(src))\n",
        "\n",
        "  return src"
      ],
      "metadata": {
        "id": "28xqhxdOykKA"
      },
      "execution_count": null,
      "outputs": []
    },
    {
      "cell_type": "markdown",
      "source": [
        "## Training function"
      ],
      "metadata": {
        "id": "RueMqLHMDqYT"
      }
    },
    {
      "cell_type": "code",
      "source": [
        "loss_fn = nn.CrossEntropyLoss()\n",
        "opt = torch.optim.Adam(model.parameters(), lr=3e-5)"
      ],
      "metadata": {
        "id": "3SgYW0vXDsYk"
      },
      "execution_count": null,
      "outputs": []
    },
    {
      "cell_type": "code",
      "source": [
        "def train(model, optim, train_dl, val_dl, l_fn, epochs, check_overfit=True):\n",
        "  H = {\n",
        "      'train_loss': [],\n",
        "      'train_acc': [],\n",
        "      'val_loss': [],\n",
        "      'val_acc': [],\n",
        "  }\n",
        "  e0 = 0\n",
        "\n",
        "  for e in range(epochs):\n",
        "    model.train()\n",
        "\n",
        "    print(f\"------------------------------------------------------------\")\n",
        "    print(f\"EPOCH : {e+1}\")\n",
        "\n",
        "    train_loss = 0\n",
        "    val_loss = 0\n",
        "    train_correct = 0\n",
        "    val_correct = 0\n",
        "\n",
        "    print(\"Training Step:\")\n",
        "    with tqdm(total=len(train_dl)) as pbar:\n",
        "      for _, (X, Y) in enumerate(train_dl):\n",
        "        Y = Y.view(-1)\n",
        "        X, Y = (X.to(device), Y.to(device))\n",
        "\n",
        "        # Forward prop\n",
        "        pred = model(X)\n",
        "        B,T,C = pred.shape\n",
        "        pred = pred.view(B*T, C)\n",
        "        loss = loss_fn(pred, Y)\n",
        "        train_loss += loss.to(\"cpu\").detach().numpy()\n",
        "\n",
        "        # Back prop\n",
        "        optim.zero_grad()\n",
        "        loss.backward()\n",
        "        optim.step()\n",
        "\n",
        "        train_correct += sum([1 for i, val in enumerate(pred.argmax(1)) if int(val) == int(Y[i])])\n",
        "\n",
        "        pbar.update(1)\n",
        "\n",
        "    print(\"\\nValidation Step:\")\n",
        "    with tqdm(total=len(val_dl)) as pbar:\n",
        "      with torch.no_grad():\n",
        "        model.eval()\n",
        "\n",
        "        for _, (X, Y) in enumerate(val_dl):\n",
        "          Y = Y.view(-1)\n",
        "          X, Y = (X.to(device), Y.to(device))\n",
        "\n",
        "          pred = model(X)\n",
        "          B,T,C = pred.shape\n",
        "          pred = pred.view(B*T, C)\n",
        "          loss = loss_fn(pred, Y)\n",
        "\n",
        "          val_loss += loss.to(\"cpu\").detach().numpy()\n",
        "          val_correct += sum([1 for i, val in enumerate(pred.argmax(1)) if int(val) == int(Y[i])])\n",
        "          pbar.update(1)\n",
        "\n",
        "\n",
        "    # Store the important specifications of the training process\n",
        "    H[\"train_loss\"].append(train_loss)\n",
        "    H[\"train_acc\"].append(train_correct / len(train_dl.dataset))\n",
        "    H[\"val_loss\"].append(val_loss)\n",
        "    H[\"val_acc\"].append(val_correct/ len(val_dl.dataset))\n",
        "\n",
        "    # Print the messages appropriately\n",
        "    print(f\"\\n\\nTrain Loss : {train_loss:.2f}\")\n",
        "    print(f\"Val Loss : {val_loss:.2f}\")\n",
        "    print(f\"Train Accuracy : {train_correct/len(train_dl.dataset):.4f}\")\n",
        "    print(f\"Val Accuracy : {val_correct/len(val_dl.dataset):.4f}\")\n",
        "\n",
        "    # Check for overfitting\n",
        "    if check_overfit and (len(H['val_acc']) > 1 and H['val_acc'][-1] < H['val_acc'][-2]):\n",
        "      print(\"The model is showing signs of over fitting enter Y to continue, or N for breaking the training loop\")\n",
        "      t = input()\n",
        "      if t == 'Y':\n",
        "        continue\n",
        "      else:\n",
        "        return H, e\n",
        "    e0 = e\n",
        "  return H, e0"
      ],
      "metadata": {
        "id": "LAe9LXOtDtMh"
      },
      "execution_count": null,
      "outputs": []
    },
    {
      "cell_type": "markdown",
      "source": [
        "# Training the model"
      ],
      "metadata": {
        "id": "U3YPHTKBTKM6"
      }
    },
    {
      "cell_type": "code",
      "source": [
        "# Hyperparameters\n",
        "nhead = 8\n",
        "d_model = 400\n",
        "ntokens = tokenizer.get_vocab_size()\n",
        "num_inputs = seq_len\n",
        "model = TransformerModel(nhead=nhead, d_model=d_model, ntokens=ntokens, seq_len=num_inputs, device=device).to(device)"
      ],
      "metadata": {
        "id": "1gt5UvIhTVg9"
      },
      "execution_count": null,
      "outputs": []
    },
    {
      "cell_type": "code",
      "source": [
        "epochs = 3\n",
        "num_sequences = 10_000\n",
        "num_repetitions = 3\n",
        "\n",
        "for i in range(num_repetitions)\n",
        "  train_dl = DataLoader(token_ds(train_ds[i*num_sequences:(i+1)*num_sequences], seq_len), num_workers=2, batch_size=batch_size)\n",
        "\n",
        "  start_time = time.time()\n",
        "  train(model, opt, train_dl, val_dl, loss_fn, epochs, check_overfit=True)\n",
        "  end_time = time.time()\n",
        "\n",
        "  print(f'\\nElapsed Time: {end_time-start_time}')"
      ],
      "metadata": {
        "id": "eXfgQbblDuvB",
        "colab": {
          "base_uri": "https://localhost:8080/"
        },
        "outputId": "36a408d5-b100-45d3-ef56-5b34f68afe9b"
      },
      "execution_count": null,
      "outputs": [
        {
          "output_type": "stream",
          "name": "stderr",
          "text": [
            "100%|██████████| 10000/10000 [00:03<00:00, 2558.08it/s]\n"
          ]
        },
        {
          "output_type": "stream",
          "name": "stdout",
          "text": [
            "------------------------------------------------------------\n",
            "EPOCH : 1\n",
            "Training Step:\n"
          ]
        },
        {
          "output_type": "stream",
          "name": "stderr",
          "text": [
            "\r  0%|          | 0/757 [00:00<?, ?it/s]/usr/lib/python3.10/multiprocessing/popen_fork.py:66: RuntimeWarning: os.fork() was called. os.fork() is incompatible with multithreaded code, and JAX is multithreaded, so this will likely lead to a deadlock.\n",
            "  self.pid = os.fork()\n",
            "100%|██████████| 757/757 [02:35<00:00,  4.88it/s]\n"
          ]
        },
        {
          "output_type": "stream",
          "name": "stdout",
          "text": [
            "\n",
            "Validation Step:\n"
          ]
        },
        {
          "output_type": "stream",
          "name": "stderr",
          "text": [
            "100%|██████████| 303/303 [00:41<00:00,  7.27it/s]\n"
          ]
        },
        {
          "output_type": "stream",
          "name": "stdout",
          "text": [
            "\n",
            "\n",
            "Train Loss : 1767.275520682335\n",
            "Val Loss : 466.0947512984276\n",
            "Train Accuracy : 71.53405195556107\n",
            "Val Accuracy : 80.55450972279685\n",
            "------------------------------------------------------------\n",
            "EPOCH : 2\n",
            "Training Step:\n"
          ]
        },
        {
          "output_type": "stream",
          "name": "stderr",
          "text": [
            "100%|██████████| 757/757 [02:34<00:00,  4.89it/s]\n"
          ]
        },
        {
          "output_type": "stream",
          "name": "stdout",
          "text": [
            "\n",
            "Validation Step:\n"
          ]
        },
        {
          "output_type": "stream",
          "name": "stderr",
          "text": [
            "100%|██████████| 303/303 [00:40<00:00,  7.47it/s]\n"
          ]
        },
        {
          "output_type": "stream",
          "name": "stdout",
          "text": [
            "\n",
            "\n",
            "Train Loss : 1737.2617719173431\n",
            "Val Loss : 462.2563262581825\n",
            "Train Accuracy : 71.65592863337876\n",
            "Val Accuracy : 80.60281340504758\n",
            "------------------------------------------------------------\n",
            "EPOCH : 3\n",
            "Training Step:\n"
          ]
        },
        {
          "output_type": "stream",
          "name": "stderr",
          "text": [
            "100%|██████████| 757/757 [02:35<00:00,  4.88it/s]\n"
          ]
        },
        {
          "output_type": "stream",
          "name": "stdout",
          "text": [
            "\n",
            "Validation Step:\n"
          ]
        },
        {
          "output_type": "stream",
          "name": "stderr",
          "text": [
            "100%|██████████| 303/303 [00:41<00:00,  7.27it/s]\n"
          ]
        },
        {
          "output_type": "stream",
          "name": "stdout",
          "text": [
            "\n",
            "\n",
            "Train Loss : 1714.2363834381104\n",
            "Val Loss : 459.31009167432785\n",
            "Train Accuracy : 71.75459463924338\n",
            "Val Accuracy : 80.64304923458833\n",
            "------------------------------------------------------------\n",
            "EPOCH : 4\n",
            "Training Step:\n"
          ]
        },
        {
          "output_type": "stream",
          "name": "stderr",
          "text": [
            "100%|█████████▉| 755/757 [02:33<00:00,  5.04it/s]"
          ]
        }
      ]
    },
    {
      "cell_type": "markdown",
      "source": [
        "## Testing the model"
      ],
      "metadata": {
        "id": "zUNkr46cyoI_"
      }
    },
    {
      "cell_type": "code",
      "source": [
        "test = 'from what i understand'\n",
        "generate(test, num_words=50)"
      ],
      "metadata": {
        "id": "kGzdILt2ynna"
      },
      "execution_count": null,
      "outputs": []
    },
    {
      "cell_type": "code",
      "source": [],
      "metadata": {
        "id": "3isTR0wJV_ne"
      },
      "execution_count": null,
      "outputs": []
    }
  ]
}